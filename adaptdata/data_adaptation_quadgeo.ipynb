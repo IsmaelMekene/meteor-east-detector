{
 "cells": [
  {
   "cell_type": "code",
   "execution_count": 1,
   "metadata": {},
   "outputs": [
    {
     "name": "stdout",
     "output_type": "stream",
     "text": [
      "Requirement already satisfied: glob2 in /opt/miniconda3/envs/conda_env/lib/python3.8/site-packages (0.7)\r\n"
     ]
    }
   ],
   "source": [
    "!pip install glob2"
   ]
  },
  {
   "cell_type": "code",
   "execution_count": 2,
   "metadata": {},
   "outputs": [],
   "source": [
    "import numpy as np\n",
    "import pandas as pd\n",
    "import matplotlib.pyplot as plt\n",
    "import ast\n",
    "import glob2\n",
    "import PIL\n",
    "from tqdm import tqdm\n",
    "import cv2\n",
    "import numpy as np\n",
    "import shutil"
   ]
  },
  {
   "cell_type": "code",
   "execution_count": 3,
   "metadata": {},
   "outputs": [],
   "source": [
    "try:\n",
    "    import Image\n",
    "except ImportError:\n",
    "    from PIL import Image"
   ]
  },
  {
   "cell_type": "code",
   "execution_count": 4,
   "metadata": {},
   "outputs": [
    {
     "data": {
      "text/plain": [
       "(880, 1280, 3)"
      ]
     },
     "execution_count": 4,
     "metadata": {},
     "output_type": "execute_result"
    },
    {
     "data": {
      "image/png": "[encoded data removed]",
      "text/plain": [
       "<Figure size 432x288 with 1 Axes>"
      ]
     },
     "metadata": {
      "needs_background": "light"
     },
     "output_type": "display_data"
    }
   ],
   "source": [
    "im = plt.imread('./first.png')\n",
    "im = im*255\n",
    "plt.imshow(im)\n",
    "im.shape"
   ]
  },
  {
   "cell_type": "code",
   "execution_count": 9,
   "metadata": {
    "scrolled": true
   },
   "outputs": [
    {
     "data": {
      "text/html": [
       "<div>\n",
       "<style scoped>\n",
       "    .dataframe tbody tr th:only-of-type {\n",
       "        vertical-align: middle;\n",
       "    }\n",
       "\n",
       "    .dataframe tbody tr th {\n",
       "        vertical-align: top;\n",
       "    }\n",
       "\n",
       "    .dataframe thead th {\n",
       "        text-align: right;\n",
       "    }\n",
       "</style>\n",
       "<table border=\"1\" class=\"dataframe\">\n",
       "  <thead>\n",
       "    <tr style=\"text-align: right;\">\n",
       "      <th></th>\n",
       "      <th>imageName</th>\n",
       "      <th>tags</th>\n",
       "      <th>labels</th>\n",
       "      <th>x1</th>\n",
       "      <th>y1</th>\n",
       "      <th>x2</th>\n",
       "      <th>y2</th>\n",
       "      <th>joint</th>\n",
       "      <th>imagewidth</th>\n",
       "      <th>imageheight</th>\n",
       "    </tr>\n",
       "  </thead>\n",
       "  <tbody>\n",
       "    <tr>\n",
       "      <th>0</th>\n",
       "      <td>img/14_03.jpg</td>\n",
       "      <td>LIVING</td>\n",
       "      <td>{'height': '75', 'width': '236', 'x': '375', '...</td>\n",
       "      <td>375</td>\n",
       "      <td>253</td>\n",
       "      <td>611</td>\n",
       "      <td>328</td>\n",
       "      <td>./svt/svt1/img/14_03.jpg</td>\n",
       "      <td>1280</td>\n",
       "      <td>880</td>\n",
       "    </tr>\n",
       "    <tr>\n",
       "      <th>1</th>\n",
       "      <td>img/14_03.jpg</td>\n",
       "      <td>ROOM</td>\n",
       "      <td>{'height': '76', 'width': '175', 'x': '639', '...</td>\n",
       "      <td>639</td>\n",
       "      <td>272</td>\n",
       "      <td>814</td>\n",
       "      <td>348</td>\n",
       "      <td>./svt/svt1/img/14_03.jpg</td>\n",
       "      <td>1280</td>\n",
       "      <td>880</td>\n",
       "    </tr>\n",
       "    <tr>\n",
       "      <th>2</th>\n",
       "      <td>img/14_03.jpg</td>\n",
       "      <td>THEATERS</td>\n",
       "      <td>{'height': '87', 'width': '281', 'x': '839', '...</td>\n",
       "      <td>839</td>\n",
       "      <td>283</td>\n",
       "      <td>1120</td>\n",
       "      <td>370</td>\n",
       "      <td>./svt/svt1/img/14_03.jpg</td>\n",
       "      <td>1280</td>\n",
       "      <td>880</td>\n",
       "    </tr>\n",
       "    <tr>\n",
       "      <th>3</th>\n",
       "      <td>img/14_04.jpg</td>\n",
       "      <td>INSURANCE</td>\n",
       "      <td>{'height': '64', 'width': '366', 'x': '571', '...</td>\n",
       "      <td>571</td>\n",
       "      <td>344</td>\n",
       "      <td>937</td>\n",
       "      <td>408</td>\n",
       "      <td>./svt/svt1/img/14_04.jpg</td>\n",
       "      <td>1276</td>\n",
       "      <td>884</td>\n",
       "    </tr>\n",
       "    <tr>\n",
       "      <th>4</th>\n",
       "      <td>img/14_04.jpg</td>\n",
       "      <td>STANDARD</td>\n",
       "      <td>{'height': '84', 'width': '354', 'x': '180', '...</td>\n",
       "      <td>180</td>\n",
       "      <td>310</td>\n",
       "      <td>534</td>\n",
       "      <td>394</td>\n",
       "      <td>./svt/svt1/img/14_04.jpg</td>\n",
       "      <td>1276</td>\n",
       "      <td>884</td>\n",
       "    </tr>\n",
       "    <tr>\n",
       "      <th>...</th>\n",
       "      <td>...</td>\n",
       "      <td>...</td>\n",
       "      <td>...</td>\n",
       "      <td>...</td>\n",
       "      <td>...</td>\n",
       "      <td>...</td>\n",
       "      <td>...</td>\n",
       "      <td>...</td>\n",
       "      <td>...</td>\n",
       "      <td>...</td>\n",
       "    </tr>\n",
       "    <tr>\n",
       "      <th>252</th>\n",
       "      <td>img/11_11.jpg</td>\n",
       "      <td>CENTER</td>\n",
       "      <td>{'height': '41', 'width': '95', 'x': '722', 'y...</td>\n",
       "      <td>722</td>\n",
       "      <td>332</td>\n",
       "      <td>817</td>\n",
       "      <td>373</td>\n",
       "      <td>./svt/svt1/img/11_11.jpg</td>\n",
       "      <td>1280</td>\n",
       "      <td>800</td>\n",
       "    </tr>\n",
       "    <tr>\n",
       "      <th>253</th>\n",
       "      <td>img/11_11.jpg</td>\n",
       "      <td>PERFORMING</td>\n",
       "      <td>{'height': '36', 'width': '131', 'x': '528', '...</td>\n",
       "      <td>528</td>\n",
       "      <td>331</td>\n",
       "      <td>659</td>\n",
       "      <td>367</td>\n",
       "      <td>./svt/svt1/img/11_11.jpg</td>\n",
       "      <td>1280</td>\n",
       "      <td>800</td>\n",
       "    </tr>\n",
       "    <tr>\n",
       "      <th>254</th>\n",
       "      <td>img/11_11.jpg</td>\n",
       "      <td>ORLANDO</td>\n",
       "      <td>{'height': '23', 'width': '67', 'x': '521', 'y...</td>\n",
       "      <td>521</td>\n",
       "      <td>391</td>\n",
       "      <td>588</td>\n",
       "      <td>414</td>\n",
       "      <td>./svt/svt1/img/11_11.jpg</td>\n",
       "      <td>1280</td>\n",
       "      <td>800</td>\n",
       "    </tr>\n",
       "    <tr>\n",
       "      <th>255</th>\n",
       "      <td>img/04_16.jpg</td>\n",
       "      <td>BLOCKBUSTER</td>\n",
       "      <td>{'height': '61', 'width': '281', 'x': '467', '...</td>\n",
       "      <td>467</td>\n",
       "      <td>497</td>\n",
       "      <td>748</td>\n",
       "      <td>558</td>\n",
       "      <td>./svt/svt1/img/04_16.jpg</td>\n",
       "      <td>1280</td>\n",
       "      <td>1024</td>\n",
       "    </tr>\n",
       "    <tr>\n",
       "      <th>256</th>\n",
       "      <td>img/04_16.jpg</td>\n",
       "      <td>VIDEO</td>\n",
       "      <td>{'height': '58', 'width': '114', 'x': '750', '...</td>\n",
       "      <td>750</td>\n",
       "      <td>497</td>\n",
       "      <td>864</td>\n",
       "      <td>555</td>\n",
       "      <td>./svt/svt1/img/04_16.jpg</td>\n",
       "      <td>1280</td>\n",
       "      <td>1024</td>\n",
       "    </tr>\n",
       "  </tbody>\n",
       "</table>\n",
       "<p>257 rows × 10 columns</p>\n",
       "</div>"
      ],
      "text/plain": [
       "         imageName         tags  \\\n",
       "0    img/14_03.jpg       LIVING   \n",
       "1    img/14_03.jpg         ROOM   \n",
       "2    img/14_03.jpg     THEATERS   \n",
       "3    img/14_04.jpg    INSURANCE   \n",
       "4    img/14_04.jpg     STANDARD   \n",
       "..             ...          ...   \n",
       "252  img/11_11.jpg       CENTER   \n",
       "253  img/11_11.jpg   PERFORMING   \n",
       "254  img/11_11.jpg      ORLANDO   \n",
       "255  img/04_16.jpg  BLOCKBUSTER   \n",
       "256  img/04_16.jpg        VIDEO   \n",
       "\n",
       "                                                labels   x1   y1    x2   y2  \\\n",
       "0    {'height': '75', 'width': '236', 'x': '375', '...  375  253   611  328   \n",
       "1    {'height': '76', 'width': '175', 'x': '639', '...  639  272   814  348   \n",
       "2    {'height': '87', 'width': '281', 'x': '839', '...  839  283  1120  370   \n",
       "3    {'height': '64', 'width': '366', 'x': '571', '...  571  344   937  408   \n",
       "4    {'height': '84', 'width': '354', 'x': '180', '...  180  310   534  394   \n",
       "..                                                 ...  ...  ...   ...  ...   \n",
       "252  {'height': '41', 'width': '95', 'x': '722', 'y...  722  332   817  373   \n",
       "253  {'height': '36', 'width': '131', 'x': '528', '...  528  331   659  367   \n",
       "254  {'height': '23', 'width': '67', 'x': '521', 'y...  521  391   588  414   \n",
       "255  {'height': '61', 'width': '281', 'x': '467', '...  467  497   748  558   \n",
       "256  {'height': '58', 'width': '114', 'x': '750', '...  750  497   864  555   \n",
       "\n",
       "                        joint  imagewidth  imageheight  \n",
       "0    ./svt/svt1/img/14_03.jpg        1280          880  \n",
       "1    ./svt/svt1/img/14_03.jpg        1280          880  \n",
       "2    ./svt/svt1/img/14_03.jpg        1280          880  \n",
       "3    ./svt/svt1/img/14_04.jpg        1276          884  \n",
       "4    ./svt/svt1/img/14_04.jpg        1276          884  \n",
       "..                        ...         ...          ...  \n",
       "252  ./svt/svt1/img/11_11.jpg        1280          800  \n",
       "253  ./svt/svt1/img/11_11.jpg        1280          800  \n",
       "254  ./svt/svt1/img/11_11.jpg        1280          800  \n",
       "255  ./svt/svt1/img/04_16.jpg        1280         1024  \n",
       "256  ./svt/svt1/img/04_16.jpg        1280         1024  \n",
       "\n",
       "[257 rows x 10 columns]"
      ]
     },
     "execution_count": 9,
     "metadata": {},
     "output_type": "execute_result"
    }
   ],
   "source": [
    "data = pd.read_csv('./dataset.csv')  #load the dataset\n",
    "data"
   ]
  },
  {
   "cell_type": "code",
   "execution_count": null,
   "metadata": {},
   "outputs": [],
   "source": []
  },
  {
   "cell_type": "code",
   "execution_count": null,
   "metadata": {},
   "outputs": [],
   "source": [
    "def dataforQuadGeo(dataset):\n",
    "\n",
    "data = pd.read_csv(dataset)  #load the dataset\n",
    "images = \"./images\"\n",
    "les_noms = data['imageName'].unique().tolist()\n",
    "\n",
    "for noms in tqdm(les_noms):\n",
    "    \n",
    "    split = noms.split('.')[0]\n",
    "\n",
    "    #firstimage = data['imageName'] == 'img/14_03.jpg'\n",
    "    #groupeoffirstimage = data[firstimage]\n",
    "    #groupe = groupeoffirstimage.reset_index(drop=True)\n",
    "    \n",
    "    groupe_of_first_image = data[data['imageName'] == noms]\n",
    "    groupe = groupe_of_first_image.reset_index(drop=True)\n",
    "    \n",
    "\n",
    "    flop = (np.zeros(((groupe.iloc[0, 9]), (groupe.iloc[0, 8]))))\n",
    "\n",
    "    for f in range(len(groupe)):\n",
    "\n",
    "\n",
    "\n",
    "\n",
    "        #flop[(groupe.iloc[0, 4]):(groupe.iloc[0, 6]), (groupe.iloc[0, 3]):(groupe.iloc[0, 5])] = 1\n",
    "        #flop[310:394, 180:534] = 1\n",
    "        clop = np.zeros((((groupe.iloc[f, 6]) - (groupe.iloc[f, 4])), ((groupe.iloc[f, 5]) - (groupe.iloc[f, 3]))))\n",
    "\n",
    "        for i in range((groupe.iloc[f, 6]) - (groupe.iloc[f, 4])):\n",
    "            for e in range((groupe.iloc[f, 5]) - (groupe.iloc[f, 3])):\n",
    "\n",
    "                a = np.array((0,0))\n",
    "                b = np.array((i,e))\n",
    "\n",
    "                clop[i][e] = np.linalg.norm(a-b)\n",
    "\n",
    "        flop[(groupe.iloc[f, 4]):(groupe.iloc[f, 6]), (groupe.iloc[f, 3]):(groupe.iloc[f, 5])] = clop\n",
    "\n",
    "    #flop.tofile('./14_03.dat')\n",
    "    np.savetxt(f'{images}/{split}.txt', flop, fmt='%f')\n",
    "    np.savetxt('./14_03.txt', flop, fmt='%f')\n",
    "    #f'{images}/{split}.txt'\n",
    "\n",
    "    plt.imshow(flop)\n",
    "    plt.show()"
   ]
  },
  {
   "cell_type": "code",
   "execution_count": null,
   "metadata": {
    "scrolled": false
   },
   "outputs": [],
   "source": []
  },
  {
   "cell_type": "code",
   "execution_count": 44,
   "metadata": {},
   "outputs": [
    {
     "data": {
      "text/plain": [
       "array([[ True,  True,  True, ...,  True,  True,  True],\n",
       "       [ True,  True,  True, ...,  True,  True,  True],\n",
       "       [ True,  True,  True, ...,  True,  True,  True],\n",
       "       ...,\n",
       "       [ True,  True,  True, ...,  True,  True,  True],\n",
       "       [ True,  True,  True, ...,  True,  True,  True],\n",
       "       [ True,  True,  True, ...,  True,  True,  True]])"
      ]
     },
     "execution_count": 44,
     "metadata": {},
     "output_type": "execute_result"
    }
   ],
   "source": [
    "b = np.loadtxt('./14_03.txt', dtype=float)\n",
    "b == flop"
   ]
  },
  {
   "cell_type": "code",
   "execution_count": 21,
   "metadata": {},
   "outputs": [],
   "source": [
    "clop = np.zeros((((groupe.iloc[0, 6]) - (groupe.iloc[0, 4])), ((groupe.iloc[0, 5]) - (groupe.iloc[0, 3]))))"
   ]
  },
  {
   "cell_type": "code",
   "execution_count": 22,
   "metadata": {},
   "outputs": [
    {
     "data": {
      "text/plain": [
       "(75, 236)"
      ]
     },
     "execution_count": 22,
     "metadata": {},
     "output_type": "execute_result"
    }
   ],
   "source": [
    "clop.shape"
   ]
  },
  {
   "cell_type": "code",
   "execution_count": 24,
   "metadata": {},
   "outputs": [
    {
     "data": {
      "text/plain": [
       "0.0"
      ]
     },
     "execution_count": 24,
     "metadata": {},
     "output_type": "execute_result"
    }
   ],
   "source": [
    "clop[0][0]"
   ]
  },
  {
   "cell_type": "code",
   "execution_count": 25,
   "metadata": {},
   "outputs": [],
   "source": [
    "epl = np.zeros((75,236))\n",
    "\n",
    "for i in range(75):\n",
    "    for e in range(236):\n",
    "        \n",
    "        a = np.array((0,0))\n",
    "        b = np.array((i,e))\n",
    "        \n",
    "        epl[i][e] = np.linalg.norm(a-b)"
   ]
  },
  {
   "cell_type": "code",
   "execution_count": 26,
   "metadata": {},
   "outputs": [
    {
     "data": {
      "text/plain": [
       "array([[  0.        ,   1.        ,   2.        , ..., 233.        ,\n",
       "        234.        , 235.        ],\n",
       "       [  1.        ,   1.41421356,   2.23606798, ..., 233.00214591,\n",
       "        234.00213674, 235.00212765],\n",
       "       [  2.        ,   2.23606798,   2.82842712, ..., 233.00858353,\n",
       "        234.00854685, 235.00851048],\n",
       "       ...,\n",
       "       [ 72.        ,  72.00694411,  72.02777242, ..., 243.87086747,\n",
       "        244.82646916, 245.78242411],\n",
       "       [ 73.        ,  73.00684899,  73.02739212, ..., 244.16797497,\n",
       "        245.1224184 , 246.07722365],\n",
       "       [ 74.        ,  74.00675645,  74.02702209, ..., 244.46881192,\n",
       "        245.4220854 , 246.37572932]])"
      ]
     },
     "execution_count": 26,
     "metadata": {},
     "output_type": "execute_result"
    }
   ],
   "source": [
    "epl"
   ]
  },
  {
   "cell_type": "code",
   "execution_count": 28,
   "metadata": {},
   "outputs": [
    {
     "data": {
      "text/plain": [
       "(75, 236)"
      ]
     },
     "execution_count": 28,
     "metadata": {},
     "output_type": "execute_result"
    }
   ],
   "source": [
    "epl.shape"
   ]
  },
  {
   "cell_type": "code",
   "execution_count": null,
   "metadata": {},
   "outputs": [],
   "source": []
  },
  {
   "cell_type": "code",
   "execution_count": 18,
   "metadata": {},
   "outputs": [
    {
     "data": {
      "text/plain": [
       "(75, 236)"
      ]
     },
     "execution_count": 18,
     "metadata": {},
     "output_type": "execute_result"
    }
   ],
   "source": [
    "epl = np.zeros(((328-253), (611-375))) \n",
    "epl.shape"
   ]
  },
  {
   "cell_type": "code",
   "execution_count": 19,
   "metadata": {},
   "outputs": [
    {
     "data": {
      "text/plain": [
       "408"
      ]
     },
     "execution_count": 19,
     "metadata": {},
     "output_type": "execute_result"
    }
   ],
   "source": [
    "groupe.iloc[0, 6]"
   ]
  },
  {
   "cell_type": "code",
   "execution_count": 27,
   "metadata": {},
   "outputs": [],
   "source": [
    "elip = (np.zeros(((groupe.iloc[0, 9]), (groupe.iloc[0, 8]))))"
   ]
  },
  {
   "cell_type": "code",
   "execution_count": 29,
   "metadata": {},
   "outputs": [],
   "source": [
    "elip[(groupe.iloc[0, 4]):(groupe.iloc[0, 6]), (groupe.iloc[0, 3]):(groupe.iloc[0, 5])] = epl"
   ]
  },
  {
   "cell_type": "code",
   "execution_count": 30,
   "metadata": {},
   "outputs": [
    {
     "data": {
      "image/png": "[encoded data removed]",
      "text/plain": [
       "<Figure size 432x288 with 1 Axes>"
      ]
     },
     "metadata": {
      "needs_background": "light"
     },
     "output_type": "display_data"
    }
   ],
   "source": [
    "plt.imshow(elip)\n",
    "plt.show()"
   ]
  },
  {
   "cell_type": "code",
   "execution_count": null,
   "metadata": {},
   "outputs": [],
   "source": []
  },
  {
   "cell_type": "code",
   "execution_count": null,
   "metadata": {},
   "outputs": [],
   "source": []
  },
  {
   "cell_type": "code",
   "execution_count": 154,
   "metadata": {},
   "outputs": [],
   "source": [
    "\n",
    "\n",
    "\n",
    "'''\n",
    "@uthor: me_teor21\n",
    "d@te: 12/01/2021\n",
    "'''\n",
    "\n",
    "\n",
    "\n",
    "\n",
    "def dataforQuadGeo(dataset, images):\n",
    "    '''This function adapt the image dataset to the QUADGEO loss function'''\n",
    "    \n",
    "    data = pd.read_csv(dataset)  #load the dataset\n",
    "    \n",
    "    les_noms = data['imageName'].unique().tolist()  #make a list with the image names (no repetition)\n",
    "\n",
    "    for noms in tqdm(les_noms):   #iterate over every images\n",
    "\n",
    "        split = noms.split('.')[0]  #as image names are like img/00_00.jpg, split and store the 'img/00_00' part\n",
    "        groupe_of_first_image = data[data['imageName'] == noms]  #dataframe of a each single image\n",
    "        groupe = groupe_of_first_image.reset_index(drop=True)  #drop index to make it start from 0\n",
    "\n",
    "\n",
    "        flop = (np.zeros((4, (groupe.iloc[0, 9]), (groupe.iloc[0, 8]))))   #create an empty tensor of size (4, m, n) containing zeros\n",
    "\n",
    "        for f in range(len(groupe)):  #iterate over lengths of each 'groupe'\n",
    "\n",
    "\n",
    "\n",
    "\n",
    "            #create an empty block of zeros that will contain the distance from the upleft corner\n",
    "            upleft = np.zeros((((groupe.iloc[f, 6]) - (groupe.iloc[f, 4])), ((groupe.iloc[f, 5]) - (groupe.iloc[f, 3]))))  \n",
    "            \n",
    "            #create an empty block of zeros that will contain the distance from the upright corner\n",
    "            upright = np.zeros((((groupe.iloc[f, 6]) - (groupe.iloc[f, 4])), ((groupe.iloc[f, 5]) - (groupe.iloc[f, 3]))))\n",
    "            \n",
    "            #create an empty block of zeros that will contain the distance from the downright corner\n",
    "            downright = np.zeros((((groupe.iloc[f, 6]) - (groupe.iloc[f, 4])), ((groupe.iloc[f, 5]) - (groupe.iloc[f, 3]))))\n",
    "            \n",
    "            #create an empty block of zeros that will contain the distance from the downleft corner\n",
    "            downleft = np.zeros((((groupe.iloc[f, 6]) - (groupe.iloc[f, 4])), ((groupe.iloc[f, 5]) - (groupe.iloc[f, 3]))))\n",
    "\n",
    "\n",
    "\n",
    "            for i in range((groupe.iloc[f, 6]) - (groupe.iloc[f, 4])):  #iterate over the row indexes\n",
    "                for e in range((groupe.iloc[f, 5]) - (groupe.iloc[f, 3])):  #iterate over the column indexes\n",
    "\n",
    "                    #coordinate of upleft\n",
    "                    alpha = np.array((0,0)) \n",
    "                    \n",
    "                    #coordinate of the rest\n",
    "                    beta = np.array((i,e)) \n",
    "                    \n",
    "                    #coordinate of upright\n",
    "                    gamma = np.array((((groupe.iloc[f, 5]) - (groupe.iloc[f, 3])),0)) \n",
    "                    \n",
    "                    #coordinate of downright\n",
    "                    delta = np.array((((groupe.iloc[f, 5]) - (groupe.iloc[f, 3])), ((groupe.iloc[f, 6]) - (groupe.iloc[f, 4])))) \n",
    "                    lambdaa = np.array((0, ((groupe.iloc[f, 6]) - (groupe.iloc[f, 4])))) #coordinate of downleft\n",
    "\n",
    "                    upleft[i][e] = np.linalg.norm(alpha - beta) #fill in the distances\n",
    "                    upright[i][e] = np.linalg.norm(gamma - beta) #fill in the distances\n",
    "                    downright[i][e] = np.linalg.norm(delta - beta) #fill in the distances\n",
    "                    downleft[i][e] = np.linalg.norm(lambdaa - beta) #fill in the distances\n",
    "\n",
    "\n",
    "            flop[0][(groupe.iloc[f, 4]):(groupe.iloc[f, 6]), (groupe.iloc[f, 3]):(groupe.iloc[f, 5])] = upleft  #fill in tensor\n",
    "            flop[1][(groupe.iloc[f, 4]):(groupe.iloc[f, 6]), (groupe.iloc[f, 3]):(groupe.iloc[f, 5])] = upright  #fill in tensor\n",
    "            flop[2][(groupe.iloc[f, 4]):(groupe.iloc[f, 6]), (groupe.iloc[f, 3]):(groupe.iloc[f, 5])] = downright  #fill in tensor\n",
    "            flop[3][(groupe.iloc[f, 4]):(groupe.iloc[f, 6]), (groupe.iloc[f, 3]):(groupe.iloc[f, 5])] = downleft  #fill in tensor\n",
    "\n",
    "\n",
    "\n",
    "\n",
    "\n",
    "        np.save(f'{images}/{split}.npy',flop)  #save each numpy array to its corresponding image name\n",
    "\n",
    "\n",
    "\n",
    "    return\n",
    "\n"
   ]
  },
  {
   "cell_type": "code",
   "execution_count": null,
   "metadata": {},
   "outputs": [],
   "source": [
    "def main():\n",
    "    dataforQuadGeo('./dataset.csv', './images')\n",
    "    \n",
    "if __name__ == \"__main__\":\n",
    "    main()"
   ]
  },
  {
   "cell_type": "code",
   "execution_count": null,
   "metadata": {},
   "outputs": [],
   "source": []
  },
  {
   "cell_type": "code",
   "execution_count": null,
   "metadata": {},
   "outputs": [],
   "source": []
  },
  {
   "cell_type": "code",
   "execution_count": null,
   "metadata": {},
   "outputs": [],
   "source": []
  },
  {
   "cell_type": "code",
   "execution_count": 136,
   "metadata": {},
   "outputs": [],
   "source": [
    "booo = np.load(\"./14_03.npy\")"
   ]
  },
  {
   "cell_type": "code",
   "execution_count": 138,
   "metadata": {},
   "outputs": [
    {
     "data": {
      "image/png": "[encoded data removed]",
      "text/plain": [
       "<Figure size 432x288 with 1 Axes>"
      ]
     },
     "metadata": {
      "needs_background": "light"
     },
     "output_type": "display_data"
    }
   ],
   "source": [
    "plt.imshow(booo[1])\n",
    "plt.show()"
   ]
  },
  {
   "cell_type": "code",
   "execution_count": 139,
   "metadata": {},
   "outputs": [
    {
     "data": {
      "image/png": "[encoded data removed]",
      "text/plain": [
       "<Figure size 432x288 with 1 Axes>"
      ]
     },
     "metadata": {
      "needs_background": "light"
     },
     "output_type": "display_data"
    },
    {
     "data": {
      "image/png": "[encoded data removed]",
      "text/plain": [
       "<Figure size 432x288 with 1 Axes>"
      ]
     },
     "metadata": {
      "needs_background": "light"
     },
     "output_type": "display_data"
    },
    {
     "data": {
      "image/png": "[encoded data removed]",
      "text/plain": [
       "<Figure size 432x288 with 1 Axes>"
      ]
     },
     "metadata": {
      "needs_background": "light"
     },
     "output_type": "display_data"
    },
    {
     "data": {
      "image/png": "[encoded data removed]",
      "text/plain": [
       "<Figure size 432x288 with 1 Axes>"
      ]
     },
     "metadata": {
      "needs_background": "light"
     },
     "output_type": "display_data"
    }
   ],
   "source": [
    "for w in range(4):\n",
    "    plt.imshow(booo[w])\n",
    "    plt.show()"
   ]
  },
  {
   "cell_type": "code",
   "execution_count": 117,
   "metadata": {},
   "outputs": [
    {
     "data": {
      "text/plain": [
       "array([[[0., 0., 0., ..., 0., 0., 0.],\n",
       "        [0., 0., 0., ..., 0., 0., 0.],\n",
       "        [0., 0., 0., ..., 0., 0., 0.],\n",
       "        ...,\n",
       "        [0., 0., 0., ..., 0., 0., 0.],\n",
       "        [0., 0., 0., ..., 0., 0., 0.],\n",
       "        [0., 0., 0., ..., 0., 0., 0.]],\n",
       "\n",
       "       [[0., 0., 0., ..., 0., 0., 0.],\n",
       "        [0., 0., 0., ..., 0., 0., 0.],\n",
       "        [0., 0., 0., ..., 0., 0., 0.],\n",
       "        ...,\n",
       "        [0., 0., 0., ..., 0., 0., 0.],\n",
       "        [0., 0., 0., ..., 0., 0., 0.],\n",
       "        [0., 0., 0., ..., 0., 0., 0.]],\n",
       "\n",
       "       [[0., 0., 0., ..., 0., 0., 0.],\n",
       "        [0., 0., 0., ..., 0., 0., 0.],\n",
       "        [0., 0., 0., ..., 0., 0., 0.],\n",
       "        ...,\n",
       "        [0., 0., 0., ..., 0., 0., 0.],\n",
       "        [0., 0., 0., ..., 0., 0., 0.],\n",
       "        [0., 0., 0., ..., 0., 0., 0.]],\n",
       "\n",
       "       [[0., 0., 0., ..., 0., 0., 0.],\n",
       "        [0., 0., 0., ..., 0., 0., 0.],\n",
       "        [0., 0., 0., ..., 0., 0., 0.],\n",
       "        ...,\n",
       "        [0., 0., 0., ..., 0., 0., 0.],\n",
       "        [0., 0., 0., ..., 0., 0., 0.],\n",
       "        [0., 0., 0., ..., 0., 0., 0.]]])"
      ]
     },
     "execution_count": 117,
     "metadata": {},
     "output_type": "execute_result"
    }
   ],
   "source": [
    "np.zeros((4,880,1280))"
   ]
  },
  {
   "cell_type": "code",
   "execution_count": 118,
   "metadata": {},
   "outputs": [],
   "source": [
    "allo = np.zeros((4,880,1280))\n",
    "two = np.zeros((3,3))\n",
    "three = np.ones((75,236))"
   ]
  },
  {
   "cell_type": "code",
   "execution_count": 119,
   "metadata": {},
   "outputs": [
    {
     "data": {
      "text/plain": [
       "array([[1., 1., 1., ..., 1., 1., 1.],\n",
       "       [1., 1., 1., ..., 1., 1., 1.],\n",
       "       [1., 1., 1., ..., 1., 1., 1.],\n",
       "       ...,\n",
       "       [1., 1., 1., ..., 1., 1., 1.],\n",
       "       [1., 1., 1., ..., 1., 1., 1.],\n",
       "       [1., 1., 1., ..., 1., 1., 1.]])"
      ]
     },
     "execution_count": 119,
     "metadata": {},
     "output_type": "execute_result"
    }
   ],
   "source": [
    "three"
   ]
  },
  {
   "cell_type": "code",
   "execution_count": 124,
   "metadata": {},
   "outputs": [
    {
     "data": {
      "text/plain": [
       "(880, 1280)"
      ]
     },
     "execution_count": 124,
     "metadata": {},
     "output_type": "execute_result"
    }
   ],
   "source": [
    "allo[3].shape"
   ]
  },
  {
   "cell_type": "code",
   "execution_count": 128,
   "metadata": {},
   "outputs": [
    {
     "data": {
      "text/plain": [
       "array([[0., 0., 0., ..., 0., 0., 0.],\n",
       "       [0., 0., 0., ..., 0., 0., 0.],\n",
       "       [0., 0., 0., ..., 0., 0., 0.],\n",
       "       ...,\n",
       "       [0., 0., 0., ..., 0., 0., 0.],\n",
       "       [0., 0., 0., ..., 0., 0., 0.],\n",
       "       [0., 0., 0., ..., 0., 0., 0.]])"
      ]
     },
     "execution_count": 128,
     "metadata": {},
     "output_type": "execute_result"
    }
   ],
   "source": [
    "allo[0]"
   ]
  },
  {
   "cell_type": "code",
   "execution_count": 126,
   "metadata": {},
   "outputs": [],
   "source": [
    "allo[1][254:329 , 375:611] = three"
   ]
  },
  {
   "cell_type": "code",
   "execution_count": null,
   "metadata": {},
   "outputs": [],
   "source": []
  },
  {
   "cell_type": "code",
   "execution_count": null,
   "metadata": {},
   "outputs": [],
   "source": []
  },
  {
   "cell_type": "code",
   "execution_count": null,
   "metadata": {},
   "outputs": [],
   "source": []
  },
  {
   "cell_type": "code",
   "execution_count": 131,
   "metadata": {},
   "outputs": [
    {
     "data": {
      "image/png": "[encoded data removed]",
      "text/plain": [
       "<Figure size 432x288 with 1 Axes>"
      ]
     },
     "metadata": {
      "needs_background": "light"
     },
     "output_type": "display_data"
    }
   ],
   "source": [
    "plt.imshow(allo[1])\n",
    "plt.show()"
   ]
  },
  {
   "cell_type": "code",
   "execution_count": 90,
   "metadata": {},
   "outputs": [
    {
     "data": {
      "text/plain": [
       "(2, 2)"
      ]
     },
     "execution_count": 90,
     "metadata": {},
     "output_type": "execute_result"
    }
   ],
   "source": [
    "allo[1][1:3 , 1:3].shape"
   ]
  },
  {
   "cell_type": "code",
   "execution_count": 133,
   "metadata": {},
   "outputs": [],
   "source": []
  },
  {
   "cell_type": "code",
   "execution_count": null,
   "metadata": {},
   "outputs": [],
   "source": []
  },
  {
   "cell_type": "code",
   "execution_count": null,
   "metadata": {},
   "outputs": [],
   "source": []
  }
 ],
 "metadata": {
  "kernelspec": {
   "display_name": "Python 3",
   "language": "python",
   "name": "python3"
  },
  "language_info": {
   "codemirror_mode": {
    "name": "ipython",
    "version": 3
   },
   "file_extension": ".py",
   "mimetype": "text/x-python",
   "name": "python",
   "nbconvert_exporter": "python",
   "pygments_lexer": "ipython3",
   "version": "3.8.5"
  }
 },
 "nbformat": 4,
 "nbformat_minor": 4
}
