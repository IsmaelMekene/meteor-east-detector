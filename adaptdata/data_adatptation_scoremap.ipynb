{
 "cells": [
  {
   "cell_type": "code",
   "execution_count": 66,
   "metadata": {},
   "outputs": [
    {
     "name": "stdout",
     "output_type": "stream",
     "text": [
      "Requirement already satisfied: glob2 in /opt/miniconda3/envs/conda_env/lib/python3.8/site-packages (0.7)\r\n"
     ]
    }
   ],
   "source": [
    "!pip install glob2"
   ]
  },
  {
   "cell_type": "code",
   "execution_count": 115,
   "metadata": {},
   "outputs": [],
   "source": [
    "import numpy as np\n",
    "import pandas as pd\n",
    "import matplotlib.pyplot as plt\n",
    "import ast\n",
    "import glob2\n",
    "import PIL\n",
    "from tqdm import tqdm\n",
    "import cv2\n",
    "import numpy as np\n",
    "import shutil"
   ]
  },
  {
   "cell_type": "code",
   "execution_count": 4,
   "metadata": {},
   "outputs": [],
   "source": [
    "try:\n",
    "    import Image\n",
    "except ImportError:\n",
    "    from PIL import Image"
   ]
  },
  {
   "cell_type": "code",
   "execution_count": 5,
   "metadata": {},
   "outputs": [],
   "source": [
    "x = np.array([[1, 2, 3, 4], \n",
    "              [5, 6, 7, 8], \n",
    "              [9, 10, 11, 12]])"
   ]
  },
  {
   "cell_type": "code",
   "execution_count": null,
   "metadata": {},
   "outputs": [],
   "source": []
  },
  {
   "cell_type": "code",
   "execution_count": 6,
   "metadata": {},
   "outputs": [],
   "source": [
    "y = np.array([[3, 4], \n",
    "              [9, 10]])"
   ]
  },
  {
   "cell_type": "code",
   "execution_count": 7,
   "metadata": {},
   "outputs": [],
   "source": [
    "x[0:2,  2:4] = y"
   ]
  },
  {
   "cell_type": "code",
   "execution_count": 8,
   "metadata": {},
   "outputs": [
    {
     "data": {
      "text/plain": [
       "array([[ 1,  2,  3,  4],\n",
       "       [ 5,  6,  9, 10],\n",
       "       [ 9, 10, 11, 12]])"
      ]
     },
     "execution_count": 8,
     "metadata": {},
     "output_type": "execute_result"
    }
   ],
   "source": [
    "x"
   ]
  },
  {
   "cell_type": "code",
   "execution_count": null,
   "metadata": {},
   "outputs": [],
   "source": []
  },
  {
   "cell_type": "code",
   "execution_count": 9,
   "metadata": {},
   "outputs": [
    {
     "name": "stdout",
     "output_type": "stream",
     "text": [
      "1280 880\n"
     ]
    }
   ],
   "source": [
    "image = PIL.Image.open(\"./svt/svt1/img/14_03.jpg\")\n",
    "width, height = image.size\n",
    "\n",
    "print(width, height)"
   ]
  },
  {
   "cell_type": "code",
   "execution_count": 10,
   "metadata": {},
   "outputs": [],
   "source": [
    "img = np.zeros((1280, 880))"
   ]
  },
  {
   "cell_type": "code",
   "execution_count": 11,
   "metadata": {},
   "outputs": [
    {
     "data": {
      "text/plain": [
       "array([[0., 0., 0., ..., 0., 0., 0.],\n",
       "       [0., 0., 0., ..., 0., 0., 0.],\n",
       "       [0., 0., 0., ..., 0., 0., 0.],\n",
       "       ...,\n",
       "       [0., 0., 0., ..., 0., 0., 0.],\n",
       "       [0., 0., 0., ..., 0., 0., 0.],\n",
       "       [0., 0., 0., ..., 0., 0., 0.]])"
      ]
     },
     "execution_count": 11,
     "metadata": {},
     "output_type": "execute_result"
    }
   ],
   "source": [
    "img"
   ]
  },
  {
   "cell_type": "code",
   "execution_count": 12,
   "metadata": {},
   "outputs": [
    {
     "data": {
      "image/png": "[encoded data removed]",
      "text/plain": [
       "<Figure size 432x288 with 1 Axes>"
      ]
     },
     "metadata": {
      "needs_background": "light"
     },
     "output_type": "display_data"
    }
   ],
   "source": [
    "img[253:328,  375:611] = 1\n",
    "plt.plot(img)\n",
    "plt.show()"
   ]
  },
  {
   "cell_type": "code",
   "execution_count": 13,
   "metadata": {},
   "outputs": [],
   "source": [
    "img[272:349,  639:815] = 1"
   ]
  },
  {
   "cell_type": "code",
   "execution_count": 14,
   "metadata": {},
   "outputs": [],
   "source": [
    "img[283:371,  839:1121] = 1"
   ]
  },
  {
   "cell_type": "code",
   "execution_count": 15,
   "metadata": {},
   "outputs": [
    {
     "data": {
      "image/png": "[encoded data removed]",
      "text/plain": [
       "<Figure size 432x288 with 1 Axes>"
      ]
     },
     "metadata": {
      "needs_background": "light"
     },
     "output_type": "display_data"
    }
   ],
   "source": [
    "plt.imshow(img)\n",
    "plt.show()"
   ]
  },
  {
   "cell_type": "code",
   "execution_count": 16,
   "metadata": {},
   "outputs": [
    {
     "data": {
      "text/html": [
       "<div>\n",
       "<style scoped>\n",
       "    .dataframe tbody tr th:only-of-type {\n",
       "        vertical-align: middle;\n",
       "    }\n",
       "\n",
       "    .dataframe tbody tr th {\n",
       "        vertical-align: top;\n",
       "    }\n",
       "\n",
       "    .dataframe thead th {\n",
       "        text-align: right;\n",
       "    }\n",
       "</style>\n",
       "<table border=\"1\" class=\"dataframe\">\n",
       "  <thead>\n",
       "    <tr style=\"text-align: right;\">\n",
       "      <th></th>\n",
       "      <th>imageName</th>\n",
       "      <th>tags</th>\n",
       "      <th>labels</th>\n",
       "    </tr>\n",
       "  </thead>\n",
       "  <tbody>\n",
       "    <tr>\n",
       "      <th>0</th>\n",
       "      <td>img/14_03.jpg</td>\n",
       "      <td>LIVING</td>\n",
       "      <td>{'height': '75', 'width': '236', 'x': '375', '...</td>\n",
       "    </tr>\n",
       "    <tr>\n",
       "      <th>1</th>\n",
       "      <td>img/14_03.jpg</td>\n",
       "      <td>ROOM</td>\n",
       "      <td>{'height': '76', 'width': '175', 'x': '639', '...</td>\n",
       "    </tr>\n",
       "    <tr>\n",
       "      <th>2</th>\n",
       "      <td>img/14_03.jpg</td>\n",
       "      <td>THEATERS</td>\n",
       "      <td>{'height': '87', 'width': '281', 'x': '839', '...</td>\n",
       "    </tr>\n",
       "    <tr>\n",
       "      <th>3</th>\n",
       "      <td>img/14_04.jpg</td>\n",
       "      <td>INSURANCE</td>\n",
       "      <td>{'height': '64', 'width': '366', 'x': '571', '...</td>\n",
       "    </tr>\n",
       "    <tr>\n",
       "      <th>4</th>\n",
       "      <td>img/14_04.jpg</td>\n",
       "      <td>STANDARD</td>\n",
       "      <td>{'height': '84', 'width': '354', 'x': '180', '...</td>\n",
       "    </tr>\n",
       "    <tr>\n",
       "      <th>...</th>\n",
       "      <td>...</td>\n",
       "      <td>...</td>\n",
       "      <td>...</td>\n",
       "    </tr>\n",
       "    <tr>\n",
       "      <th>252</th>\n",
       "      <td>img/11_11.jpg</td>\n",
       "      <td>CENTER</td>\n",
       "      <td>{'height': '41', 'width': '95', 'x': '722', 'y...</td>\n",
       "    </tr>\n",
       "    <tr>\n",
       "      <th>253</th>\n",
       "      <td>img/11_11.jpg</td>\n",
       "      <td>PERFORMING</td>\n",
       "      <td>{'height': '36', 'width': '131', 'x': '528', '...</td>\n",
       "    </tr>\n",
       "    <tr>\n",
       "      <th>254</th>\n",
       "      <td>img/11_11.jpg</td>\n",
       "      <td>ORLANDO</td>\n",
       "      <td>{'height': '23', 'width': '67', 'x': '521', 'y...</td>\n",
       "    </tr>\n",
       "    <tr>\n",
       "      <th>255</th>\n",
       "      <td>img/04_16.jpg</td>\n",
       "      <td>BLOCKBUSTER</td>\n",
       "      <td>{'height': '61', 'width': '281', 'x': '467', '...</td>\n",
       "    </tr>\n",
       "    <tr>\n",
       "      <th>256</th>\n",
       "      <td>img/04_16.jpg</td>\n",
       "      <td>VIDEO</td>\n",
       "      <td>{'height': '58', 'width': '114', 'x': '750', '...</td>\n",
       "    </tr>\n",
       "  </tbody>\n",
       "</table>\n",
       "<p>257 rows × 3 columns</p>\n",
       "</div>"
      ],
      "text/plain": [
       "         imageName         tags  \\\n",
       "0    img/14_03.jpg       LIVING   \n",
       "1    img/14_03.jpg         ROOM   \n",
       "2    img/14_03.jpg     THEATERS   \n",
       "3    img/14_04.jpg    INSURANCE   \n",
       "4    img/14_04.jpg     STANDARD   \n",
       "..             ...          ...   \n",
       "252  img/11_11.jpg       CENTER   \n",
       "253  img/11_11.jpg   PERFORMING   \n",
       "254  img/11_11.jpg      ORLANDO   \n",
       "255  img/04_16.jpg  BLOCKBUSTER   \n",
       "256  img/04_16.jpg        VIDEO   \n",
       "\n",
       "                                                labels  \n",
       "0    {'height': '75', 'width': '236', 'x': '375', '...  \n",
       "1    {'height': '76', 'width': '175', 'x': '639', '...  \n",
       "2    {'height': '87', 'width': '281', 'x': '839', '...  \n",
       "3    {'height': '64', 'width': '366', 'x': '571', '...  \n",
       "4    {'height': '84', 'width': '354', 'x': '180', '...  \n",
       "..                                                 ...  \n",
       "252  {'height': '41', 'width': '95', 'x': '722', 'y...  \n",
       "253  {'height': '36', 'width': '131', 'x': '528', '...  \n",
       "254  {'height': '23', 'width': '67', 'x': '521', 'y...  \n",
       "255  {'height': '61', 'width': '281', 'x': '467', '...  \n",
       "256  {'height': '58', 'width': '114', 'x': '750', '...  \n",
       "\n",
       "[257 rows x 3 columns]"
      ]
     },
     "execution_count": 16,
     "metadata": {},
     "output_type": "execute_result"
    }
   ],
   "source": [
    "dataset = pd.read_csv('./train.csv')  #load the dataset\n",
    "dataset"
   ]
  },
  {
   "cell_type": "code",
   "execution_count": 17,
   "metadata": {},
   "outputs": [
    {
     "data": {
      "text/plain": [
       "[\"{'height': '75', 'width': '236', 'x': '375', 'y': '253'}\",\n",
       " \"{'height': '76', 'width': '175', 'x': '639', 'y': '272'}\",\n",
       " \"{'height': '87', 'width': '281', 'x': '839', 'y': '283'}\",\n",
       " \"{'height': '64', 'width': '366', 'x': '571', 'y': '344'}\",\n",
       " \"{'height': '84', 'width': '354', 'x': '180', 'y': '310'}\",\n",
       " \"{'height': '64', 'width': '229', 'x': '973', 'y': '359'}\",\n",
       " \"{'height': '64', 'width': '171', 'x': '756', 'y': '410'}\",\n",
       " \"{'height': '54', 'width': '113', 'x': '591', 'y': '416'}\",\n",
       " \"{'height': '50', 'width': '116', 'x': '927', 'y': '420'}\",\n",
       " \"{'height': '35', 'width': '87', 'x': '1000', 'y': '551'}\",\n",
       " \"{'height': '159', 'width': '673', 'x': '176', 'y': '292'}\",\n",
       " \"{'height': '61', 'width': '407', 'x': '482', 'y': '501'}\",\n",
       " \"{'height': '98', 'width': '731', 'x': '177', 'y': '354'}\",\n",
       " \"{'height': '55', 'width': '175', 'x': '506', 'y': '494'}\",\n",
       " \"{'height': '50', 'width': '120', 'x': '680', 'y': '492'}\",\n",
       " \"{'height': '27', 'width': '71', 'x': '1032', 'y': '622'}\",\n",
       " \"{'height': '55', 'width': '242', 'x': '267', 'y': '321'}\",\n",
       " \"{'height': '55', 'width': '100', 'x': '166', 'y': '324'}\",\n",
       " \"{'height': '124', 'width': '682', 'x': '365', 'y': '212'}\",\n",
       " \"{'height': '104', 'width': '192', 'x': '1050', 'y': '234'}\",\n",
       " \"{'height': '41', 'width': '145', 'x': '823', 'y': '371'}\",\n",
       " \"{'height': '41', 'width': '92', 'x': '205', 'y': '313'}\",\n",
       " \"{'height': '52', 'width': '117', 'x': '333', 'y': '315'}\",\n",
       " \"{'height': '49', 'width': '162', 'x': '429', 'y': '265'}\",\n",
       " \"{'height': '40', 'width': '118', 'x': '598', 'y': '274'}\",\n",
       " \"{'height': '51', 'width': '183', 'x': '422', 'y': '338'}\",\n",
       " \"{'height': '53', 'width': '107', 'x': '612', 'y': '339'}\",\n",
       " \"{'height': '35', 'width': '99', 'x': '416', 'y': '437'}\",\n",
       " \"{'height': '38', 'width': '82', 'x': '536', 'y': '388'}\",\n",
       " \"{'height': '40', 'width': '55', 'x': '516', 'y': '428'}\",\n",
       " \"{'height': '31', 'width': '84', 'x': '594', 'y': '428'}\",\n",
       " \"{'height': '40', 'width': '112', 'x': '623', 'y': '379'}\",\n",
       " \"{'height': '136', 'width': '497', 'x': '270', 'y': '207'}\",\n",
       " \"{'height': '126', 'width': '338', 'x': '267', 'y': '352'}\",\n",
       " \"{'height': '128', 'width': '467', 'x': '600', 'y': '349'}\",\n",
       " \"{'height': '66', 'width': '150', 'x': '1067', 'y': '201'}\",\n",
       " \"{'height': '67', 'width': '129', 'x': '951', 'y': '198'}\",\n",
       " \"{'height': '80', 'width': '356', 'x': '251', 'y': '332'}\",\n",
       " \"{'height': '25', 'width': '68', 'x': '160', 'y': '376'}\",\n",
       " \"{'height': '300', 'width': '736', 'x': '178', 'y': '147'}\",\n",
       " \"{'height': '173', 'width': '520', 'x': '484', 'y': '366'}\",\n",
       " \"{'height': '58', 'width': '240', 'x': '516', 'y': '398'}\",\n",
       " \"{'height': '62', 'width': '216', 'x': '506', 'y': '338'}\",\n",
       " \"{'height': '66', 'width': '184', 'x': '308', 'y': '417'}\",\n",
       " \"{'height': '55', 'width': '148', 'x': '504', 'y': '437'}\",\n",
       " \"{'height': '51', 'width': '77', 'x': '667', 'y': '449'}\",\n",
       " \"{'height': '80', 'width': '163', 'x': '571', 'y': '397'}\",\n",
       " \"{'height': '69', 'width': '151', 'x': '567', 'y': '328'}\",\n",
       " \"{'height': '87', 'width': '245', 'x': '318', 'y': '374'}\",\n",
       " \"{'height': '41', 'width': '119', 'x': '481', 'y': '353'}\",\n",
       " \"{'height': '33', 'width': '131', 'x': '706', 'y': '352'}\",\n",
       " \"{'height': '34', 'width': '103', 'x': '600', 'y': '351'}\",\n",
       " \"{'height': '52', 'width': '139', 'x': '484', 'y': '425'}\",\n",
       " \"{'height': '44', 'width': '67', 'x': '634', 'y': '431'}\",\n",
       " \"{'height': '61', 'width': '122', 'x': '50', 'y': '339'}\",\n",
       " \"{'height': '65', 'width': '143', 'x': '949', 'y': '353'}\",\n",
       " \"{'height': '41', 'width': '71', 'x': '546', 'y': '664'}\",\n",
       " \"{'height': '169', 'width': '434', 'x': '611', 'y': '313'}\",\n",
       " \"{'height': '67', 'width': '144', 'x': '548', 'y': '352'}\",\n",
       " \"{'height': '157', 'width': '372', 'x': '504', 'y': '355'}\",\n",
       " \"{'height': '140', 'width': '269', 'x': '227', 'y': '348'}\",\n",
       " \"{'height': '68', 'width': '371', 'x': '519', 'y': '242'}\",\n",
       " \"{'height': '65', 'width': '161', 'x': '911', 'y': '264'}\",\n",
       " \"{'height': '83', 'width': '462', 'x': '633', 'y': '318'}\",\n",
       " \"{'height': '106', 'width': '230', 'x': '511', 'y': '190'}\",\n",
       " \"{'height': '67', 'width': '257', 'x': '867', 'y': '224'}\",\n",
       " \"{'height': '47', 'width': '325', 'x': '693', 'y': '292'}\",\n",
       " \"{'height': '58', 'width': '108', 'x': '567', 'y': '316'}\",\n",
       " \"{'height': '67', 'width': '181', 'x': '615', 'y': '310'}\",\n",
       " \"{'height': '60', 'width': '161', 'x': '413', 'y': '314'}\",\n",
       " \"{'height': '61', 'width': '284', 'x': '750', 'y': '340'}\",\n",
       " \"{'height': '62', 'width': '178', 'x': '523', 'y': '393'}\",\n",
       " \"{'height': '53', 'width': '167', 'x': '525', 'y': '349'}\",\n",
       " \"{'height': '83', 'width': '415', 'x': '306', 'y': '313'}\",\n",
       " \"{'height': '92', 'width': '267', 'x': '731', 'y': '299'}\",\n",
       " \"{'height': '47', 'width': '168', 'x': '312', 'y': '405'}\",\n",
       " \"{'height': '41', 'width': '124', 'x': '492', 'y': '406'}\",\n",
       " \"{'height': '44', 'width': '153', 'x': '726', 'y': '359'}\",\n",
       " \"{'height': '74', 'width': '278', 'x': '531', 'y': '481'}\",\n",
       " \"{'height': '47', 'width': '227', 'x': '553', 'y': '442'}\",\n",
       " \"{'height': '78', 'width': '416', 'x': '542', 'y': '312'}\",\n",
       " \"{'height': '39', 'width': '195', 'x': '133', 'y': '382'}\",\n",
       " \"{'height': '50', 'width': '186', 'x': '342', 'y': '357'}\",\n",
       " \"{'height': '47', 'width': '123', 'x': '755', 'y': '336'}\",\n",
       " \"{'height': '50', 'width': '144', 'x': '883', 'y': '334'}\",\n",
       " \"{'height': '50', 'width': '133', 'x': '616', 'y': '337'}\",\n",
       " \"{'height': '52', 'width': '163', 'x': '32', 'y': '338'}\",\n",
       " \"{'height': '68', 'width': '188', 'x': '569', 'y': '409'}\",\n",
       " \"{'height': '62', 'width': '142', 'x': '792', 'y': '409'}\",\n",
       " \"{'height': '47', 'width': '62', 'x': '634', 'y': '371'}\",\n",
       " \"{'height': '82', 'width': '123', 'x': '481', 'y': '54'}\",\n",
       " \"{'height': '45', 'width': '90', 'x': '542', 'y': '368'}\",\n",
       " \"{'height': '60', 'width': '67', 'x': '619', 'y': '110'}\",\n",
       " \"{'height': '21', 'width': '43', 'x': '596', 'y': '405'}\",\n",
       " \"{'height': '45', 'width': '150', 'x': '587', 'y': '368'}\",\n",
       " \"{'height': '17', 'width': '51', 'x': '679', 'y': '410'}\",\n",
       " \"{'height': '44', 'width': '98', 'x': '427', 'y': '497'}\",\n",
       " \"{'height': '43', 'width': '112', 'x': '530', 'y': '495'}\",\n",
       " \"{'height': '73', 'width': '389', 'x': '549', 'y': '446'}\",\n",
       " \"{'height': '75', 'width': '375', 'x': '486', 'y': '213'}\",\n",
       " \"{'height': '189', 'width': '683', 'x': '325', 'y': '263'}\",\n",
       " \"{'height': '41', 'width': '130', 'x': '403', 'y': '444'}\",\n",
       " \"{'height': '27', 'width': '102', 'x': '469', 'y': '294'}\",\n",
       " \"{'height': '44', 'width': '149', 'x': '228', 'y': '322'}\",\n",
       " \"{'height': '47', 'width': '124', 'x': '532', 'y': '322'}\",\n",
       " \"{'height': '38', 'width': '149', 'x': '379', 'y': '326'}\",\n",
       " \"{'height': '33', 'width': '72', 'x': '728', 'y': '328'}\",\n",
       " \"{'height': '33', 'width': '67', 'x': '659', 'y': '328'}\",\n",
       " \"{'height': '21', 'width': '62', 'x': '133', 'y': '389'}\",\n",
       " \"{'height': '29', 'width': '84', 'x': '17', 'y': '462'}\",\n",
       " \"{'height': '21', 'width': '39', 'x': '101', 'y': '468'}\",\n",
       " \"{'height': '13', 'width': '31', 'x': '149', 'y': '404'}\",\n",
       " \"{'height': '84', 'width': '267', 'x': '289', 'y': '192'}\",\n",
       " \"{'height': '100', 'width': '311', 'x': '472', 'y': '357'}\",\n",
       " \"{'height': '80', 'width': '255', 'x': '797', 'y': '370'}\",\n",
       " \"{'height': '36', 'width': '137', 'x': '486', 'y': '183'}\",\n",
       " \"{'height': '51', 'width': '118', 'x': '104', 'y': '199'}\",\n",
       " \"{'height': '145', 'width': '249', 'x': '481', 'y': '171'}\",\n",
       " \"{'height': '166', 'width': '272', 'x': '745', 'y': '150'}\",\n",
       " \"{'height': '122', 'width': '227', 'x': '231', 'y': '194'}\",\n",
       " \"{'height': '51', 'width': '247', 'x': '503', 'y': '368'}\",\n",
       " \"{'height': '50', 'width': '194', 'x': '484', 'y': '322'}\",\n",
       " \"{'height': '50', 'width': '101', 'x': '675', 'y': '319'}\",\n",
       " \"{'height': '142', 'width': '228', 'x': '345', 'y': '95'}\",\n",
       " \"{'height': '53', 'width': '80', 'x': '489', 'y': '662'}\",\n",
       " \"{'height': '154', 'width': '368', 'x': '584', 'y': '54'}\",\n",
       " \"{'height': '51', 'width': '120', 'x': '574', 'y': '666'}\",\n",
       " \"{'height': '64', 'width': '144', 'x': '580', 'y': '197'}\",\n",
       " \"{'height': '72', 'width': '138', 'x': '430', 'y': '191'}\",\n",
       " \"{'height': '63', 'width': '238', 'x': '968', 'y': '129'}\",\n",
       " \"{'height': '20', 'width': '38', 'x': '983', 'y': '190'}\",\n",
       " \"{'height': '21', 'width': '51', 'x': '1019', 'y': '191'}\",\n",
       " \"{'height': '18', 'width': '72', 'x': '1083', 'y': '191'}\",\n",
       " \"{'height': '32', 'width': '184', 'x': '1044', 'y': '2'}\",\n",
       " \"{'height': '71', 'width': '319', 'x': '514', 'y': '300'}\",\n",
       " \"{'height': '44', 'width': '86', 'x': '367', 'y': '352'}\",\n",
       " \"{'height': '50', 'width': '139', 'x': '345', 'y': '382'}\",\n",
       " \"{'height': '66', 'width': '188', 'x': '580', 'y': '371'}\",\n",
       " \"{'height': '104', 'width': '202', 'x': '1111', 'y': '340'}\",\n",
       " \"{'height': '117', 'width': '317', 'x': '766', 'y': '320'}\",\n",
       " \"{'height': '74', 'width': '210', 'x': '779', 'y': '387'}\",\n",
       " \"{'height': '82', 'width': '232', 'x': '533', 'y': '379'}\",\n",
       " \"{'height': '32', 'width': '181', 'x': '516', 'y': '367'}\",\n",
       " \"{'height': '50', 'width': '296', 'x': '493', 'y': '472'}\",\n",
       " \"{'height': '33', 'width': '161', 'x': '795', 'y': '253'}\",\n",
       " \"{'height': '33', 'width': '163', 'x': '211', 'y': '261'}\",\n",
       " \"{'height': '26', 'width': '110', 'x': '584', 'y': '380'}\",\n",
       " \"{'height': '16', 'width': '82', 'x': '597', 'y': '400'}\",\n",
       " \"{'height': '35', 'width': '59', 'x': '753', 'y': '460'}\",\n",
       " \"{'height': '44', 'width': '179', 'x': '751', 'y': '419'}\",\n",
       " \"{'height': '40', 'width': '142', 'x': '806', 'y': '456'}\",\n",
       " \"{'height': '30', 'width': '89', 'x': '734', 'y': '536'}\",\n",
       " \"{'height': '31', 'width': '78', 'x': '511', 'y': '529'}\",\n",
       " \"{'height': '33', 'width': '67', 'x': '450', 'y': '522'}\",\n",
       " \"{'height': '106', 'width': '279', 'x': '823', 'y': '85'}\",\n",
       " \"{'height': '55', 'width': '163', 'x': '826', 'y': '734'}\",\n",
       " \"{'height': '76', 'width': '146', 'x': '1107', 'y': '122'}\",\n",
       " \"{'height': '50', 'width': '94', 'x': '937', 'y': '681'}\",\n",
       " \"{'height': '47', 'width': '157', 'x': '778', 'y': '683'}\",\n",
       " \"{'height': '48', 'width': '200', 'x': '396', 'y': '312'}\",\n",
       " \"{'height': '36', 'width': '116', 'x': '189', 'y': '317'}\",\n",
       " \"{'height': '30', 'width': '222', 'x': '411', 'y': '381'}\",\n",
       " \"{'height': '50', 'width': '248', 'x': '554', 'y': '241'}\",\n",
       " \"{'height': '58', 'width': '409', 'x': '477', 'y': '280'}\",\n",
       " \"{'height': '75', 'width': '286', 'x': '197', 'y': '182'}\",\n",
       " \"{'height': '70', 'width': '201', 'x': '903', 'y': '231'}\",\n",
       " \"{'height': '64', 'width': '170', 'x': '497', 'y': '204'}\",\n",
       " \"{'height': '58', 'width': '122', 'x': '1109', 'y': '257'}\",\n",
       " \"{'height': '36', 'width': '191', 'x': '156', 'y': '285'}\",\n",
       " \"{'height': '27', 'width': '213', 'x': '578', 'y': '290'}\",\n",
       " \"{'height': '35', 'width': '64', 'x': '830', 'y': '282'}\",\n",
       " \"{'height': '40', 'width': '76', 'x': '996', 'y': '609'}\",\n",
       " \"{'height': '138', 'width': '292', 'x': '448', 'y': '478'}\",\n",
       " \"{'height': '165', 'width': '397', 'x': '734', 'y': '459'}\",\n",
       " \"{'height': '34', 'width': '51', 'x': '487', 'y': '450'}\",\n",
       " \"{'height': '36', 'width': '134', 'x': '411', 'y': '250'}\",\n",
       " \"{'height': '28', 'width': '105', 'x': '423', 'y': '275'}\",\n",
       " \"{'height': '50', 'width': '214', 'x': '876', 'y': '314'}\",\n",
       " \"{'height': '68', 'width': '344', 'x': '503', 'y': '313'}\",\n",
       " \"{'height': '50', 'width': '209', 'x': '271', 'y': '317'}\",\n",
       " \"{'height': '79', 'width': '158', 'x': '1101', 'y': '299'}\",\n",
       " \"{'height': '50', 'width': '273', 'x': '400', 'y': '405'}\",\n",
       " \"{'height': '62', 'width': '196', 'x': '700', 'y': '391'}\",\n",
       " \"{'height': '35', 'width': '136', 'x': '452', 'y': '473'}\",\n",
       " \"{'height': '67', 'width': '158', 'x': '474', 'y': '530'}\",\n",
       " \"{'height': '75', 'width': '160', 'x': '302', 'y': '530'}\",\n",
       " \"{'height': '92', 'width': '222', 'x': '398', 'y': '257'}\",\n",
       " \"{'height': '95', 'width': '233', 'x': '400', 'y': '350'}\",\n",
       " \"{'height': '115', 'width': '219', 'x': '578', 'y': '353'}\",\n",
       " \"{'height': '50', 'width': '253', 'x': '561', 'y': '502'}\",\n",
       " \"{'height': '108', 'width': '205', 'x': '584', 'y': '255'}\",\n",
       " \"{'height': '45', 'width': '236', 'x': '569', 'y': '544'}\",\n",
       " \"{'height': '80', 'width': '151', 'x': '450', 'y': '470'}\",\n",
       " \"{'height': '44', 'width': '144', 'x': '450', 'y': '543'}\",\n",
       " \"{'height': '26', 'width': '96', 'x': '722', 'y': '515'}\",\n",
       " \"{'height': '28', 'width': '87', 'x': '637', 'y': '514'}\",\n",
       " \"{'height': '46', 'width': '132', 'x': '907', 'y': '488'}\",\n",
       " \"{'height': '44', 'width': '109', 'x': '1036', 'y': '492'}\",\n",
       " \"{'height': '175', 'width': '647', 'x': '373', 'y': '319'}\",\n",
       " \"{'height': '76', 'width': '216', 'x': '587', 'y': '365'}\",\n",
       " \"{'height': '35', 'width': '62', 'x': '611', 'y': '441'}\",\n",
       " \"{'height': '65', 'width': '241', 'x': '726', 'y': '343'}\",\n",
       " \"{'height': '48', 'width': '147', 'x': '420', 'y': '447'}\",\n",
       " \"{'height': '40', 'width': '74', 'x': '577', 'y': '443'}\",\n",
       " \"{'height': '117', 'width': '323', 'x': '436', 'y': '274'}\",\n",
       " \"{'height': '87', 'width': '212', 'x': '765', 'y': '314'}\",\n",
       " \"{'height': '59', 'width': '380', 'x': '566', 'y': '289'}\",\n",
       " \"{'height': '43', 'width': '173', 'x': '496', 'y': '374'}\",\n",
       " \"{'height': '49', 'width': '168', 'x': '308', 'y': '379'}\",\n",
       " \"{'height': '49', 'width': '127', 'x': '471', 'y': '427'}\",\n",
       " \"{'height': '39', 'width': '85', 'x': '595', 'y': '436'}\",\n",
       " \"{'height': '37', 'width': '72', 'x': '517', 'y': '437'}\",\n",
       " \"{'height': '20', 'width': '65', 'x': '929', 'y': '873'}\",\n",
       " \"{'height': '25', 'width': '69', 'x': '726', 'y': '402'}\",\n",
       " \"{'height': '30', 'width': '141', 'x': '584', 'y': '402'}\",\n",
       " \"{'height': '22', 'width': '66', 'x': '648', 'y': '429'}\",\n",
       " \"{'height': '69', 'width': '117', 'x': '539', 'y': '320'}\",\n",
       " \"{'height': '45', 'width': '178', 'x': '556', 'y': '349'}\",\n",
       " \"{'height': '42', 'width': '278', 'x': '750', 'y': '344'}\",\n",
       " \"{'height': '77', 'width': '184', 'x': '484', 'y': '386'}\",\n",
       " \"{'height': '138', 'width': '286', 'x': '497', 'y': '288'}\",\n",
       " \"{'height': '67', 'width': '399', 'x': '528', 'y': '332'}\",\n",
       " \"{'height': '91', 'width': '357', 'x': '133', 'y': '323'}\",\n",
       " \"{'height': '97', 'width': '193', 'x': '153', 'y': '303'}\",\n",
       " \"{'height': '99', 'width': '362', 'x': '437', 'y': '299'}\",\n",
       " \"{'height': '61', 'width': '164', 'x': '745', 'y': '234'}\",\n",
       " \"{'height': '32', 'width': '252', 'x': '604', 'y': '282'}\",\n",
       " \"{'height': '73', 'width': '201', 'x': '543', 'y': '219'}\",\n",
       " \"{'height': '23', 'width': '47', 'x': '592', 'y': '363'}\",\n",
       " \"{'height': '47', 'width': '113', 'x': '534', 'y': '320'}\",\n",
       " \"{'height': '24', 'width': '21', 'x': '575', 'y': '366'}\",\n",
       " \"{'height': '31', 'width': '53', 'x': '552', 'y': '324'}\",\n",
       " \"{'height': '29', 'width': '75', 'x': '479', 'y': '326'}\",\n",
       " \"{'height': '28', 'width': '64', 'x': '220', 'y': '511'}\",\n",
       " \"{'height': '48', 'width': '133', 'x': '523', 'y': '267'}\",\n",
       " \"{'height': '56', 'width': '117', 'x': '196', 'y': '483'}\",\n",
       " \"{'height': '78', 'width': '200', 'x': '640', 'y': '343'}\",\n",
       " \"{'height': '70', 'width': '217', 'x': '984', 'y': '335'}\",\n",
       " \"{'height': '69', 'width': '354', 'x': '200', 'y': '305'}\",\n",
       " \"{'height': '61', 'width': '204', 'x': '565', 'y': '305'}\",\n",
       " \"{'height': '69', 'width': '236', 'x': '781', 'y': '296'}\",\n",
       " \"{'height': '41', 'width': '75', 'x': '190', 'y': '274'}\",\n",
       " \"{'height': '47', 'width': '93', 'x': '1071', 'y': '453'}\",\n",
       " \"{'height': '49', 'width': '168', 'x': '848', 'y': '456'}\",\n",
       " \"{'height': '75', 'width': '248', 'x': '372', 'y': '311'}\",\n",
       " \"{'height': '53', 'width': '83', 'x': '245', 'y': '355'}\",\n",
       " \"{'height': '39', 'width': '120', 'x': '227', 'y': '397'}\",\n",
       " \"{'height': '72', 'width': '114', 'x': '439', 'y': '393'}\",\n",
       " \"{'height': '49', 'width': '182', 'x': '613', 'y': '244'}\",\n",
       " \"{'height': '41', 'width': '57', 'x': '660', 'y': '332'}\",\n",
       " \"{'height': '38', 'width': '55', 'x': '645', 'y': '294'}\",\n",
       " \"{'height': '38', 'width': '68', 'x': '700', 'y': '294'}\",\n",
       " \"{'height': '41', 'width': '95', 'x': '722', 'y': '332'}\",\n",
       " \"{'height': '36', 'width': '131', 'x': '528', 'y': '331'}\",\n",
       " \"{'height': '23', 'width': '67', 'x': '521', 'y': '391'}\",\n",
       " \"{'height': '61', 'width': '281', 'x': '467', 'y': '497'}\",\n",
       " \"{'height': '58', 'width': '114', 'x': '750', 'y': '497'}\"]"
      ]
     },
     "execution_count": 17,
     "metadata": {},
     "output_type": "execute_result"
    }
   ],
   "source": [
    "listededico = dataset['labels'].tolist()  #store the labels column to a list\n",
    "listededico"
   ]
  },
  {
   "cell_type": "code",
   "execution_count": 124,
   "metadata": {},
   "outputs": [
    {
     "data": {
      "text/plain": [
       "{'height': '75', 'width': '236', 'x': '375', 'y': '253'}"
      ]
     },
     "execution_count": 124,
     "metadata": {},
     "output_type": "execute_result"
    }
   ],
   "source": [
    "alpha = ast.literal_eval(listededico[0]) #convert stringdico to realdico\n",
    "alpha"
   ]
  },
  {
   "cell_type": "code",
   "execution_count": 19,
   "metadata": {},
   "outputs": [
    {
     "data": {
      "text/plain": [
       "75"
      ]
     },
     "execution_count": 19,
     "metadata": {},
     "output_type": "execute_result"
    }
   ],
   "source": [
    "int(alpha['height'])"
   ]
  },
  {
   "cell_type": "code",
   "execution_count": 20,
   "metadata": {},
   "outputs": [
    {
     "data": {
      "text/plain": [
       "257"
      ]
     },
     "execution_count": 20,
     "metadata": {},
     "output_type": "execute_result"
    }
   ],
   "source": [
    "len(listededico)"
   ]
  },
  {
   "cell_type": "code",
   "execution_count": 21,
   "metadata": {},
   "outputs": [],
   "source": [
    "realdico = []\n",
    "height = []\n",
    "width = []\n",
    "exes = []\n",
    "wayy = []\n",
    "\n",
    "for i in range(len(listededico)):\n",
    "    alpha = ast.literal_eval(listededico[i])  #convert a string of dico to a real dico\n",
    "    \n",
    "    realdico.append(alpha)\n",
    "\n",
    "for i in range(257):\n",
    "    height.append(int(realdico[i]['height']))    \n",
    "    \n",
    "for i in range(257):\n",
    "    width.append(int(realdico[i]['width'])) \n",
    "    \n",
    "for i in range(257):\n",
    "    exes.append(int(realdico[i]['x']))\n",
    "    \n",
    "for i in range(257):\n",
    "    wayy.append(int(realdico[i]['y']))\n",
    "    \n",
    "exes1 = exes\n",
    "wayy1 = wayy\n",
    "\n",
    "exes2 = [x + y for x, y in zip(exes, width)]  #add up both lists\n",
    "\n",
    "wayy2 = [a + b for a, b in zip(wayy, height)]  #add up both lists"
   ]
  },
  {
   "cell_type": "code",
   "execution_count": 22,
   "metadata": {},
   "outputs": [
    {
     "data": {
      "text/plain": [
       "257"
      ]
     },
     "execution_count": 22,
     "metadata": {},
     "output_type": "execute_result"
    }
   ],
   "source": [
    "len(wayy2)"
   ]
  },
  {
   "cell_type": "code",
   "execution_count": null,
   "metadata": {},
   "outputs": [],
   "source": []
  },
  {
   "cell_type": "code",
   "execution_count": 23,
   "metadata": {},
   "outputs": [],
   "source": [
    "dataset['x1'] = exes1\n",
    "dataset['y1'] = wayy1\n",
    "dataset['x2'] = exes2\n",
    "dataset['y2'] = wayy2"
   ]
  },
  {
   "cell_type": "code",
   "execution_count": 24,
   "metadata": {},
   "outputs": [
    {
     "data": {
      "text/html": [
       "<div>\n",
       "<style scoped>\n",
       "    .dataframe tbody tr th:only-of-type {\n",
       "        vertical-align: middle;\n",
       "    }\n",
       "\n",
       "    .dataframe tbody tr th {\n",
       "        vertical-align: top;\n",
       "    }\n",
       "\n",
       "    .dataframe thead th {\n",
       "        text-align: right;\n",
       "    }\n",
       "</style>\n",
       "<table border=\"1\" class=\"dataframe\">\n",
       "  <thead>\n",
       "    <tr style=\"text-align: right;\">\n",
       "      <th></th>\n",
       "      <th>imageName</th>\n",
       "      <th>tags</th>\n",
       "      <th>labels</th>\n",
       "      <th>x1</th>\n",
       "      <th>y1</th>\n",
       "      <th>x2</th>\n",
       "      <th>y2</th>\n",
       "    </tr>\n",
       "  </thead>\n",
       "  <tbody>\n",
       "    <tr>\n",
       "      <th>0</th>\n",
       "      <td>img/14_03.jpg</td>\n",
       "      <td>LIVING</td>\n",
       "      <td>{'height': '75', 'width': '236', 'x': '375', '...</td>\n",
       "      <td>375</td>\n",
       "      <td>253</td>\n",
       "      <td>611</td>\n",
       "      <td>328</td>\n",
       "    </tr>\n",
       "    <tr>\n",
       "      <th>1</th>\n",
       "      <td>img/14_03.jpg</td>\n",
       "      <td>ROOM</td>\n",
       "      <td>{'height': '76', 'width': '175', 'x': '639', '...</td>\n",
       "      <td>639</td>\n",
       "      <td>272</td>\n",
       "      <td>814</td>\n",
       "      <td>348</td>\n",
       "    </tr>\n",
       "    <tr>\n",
       "      <th>2</th>\n",
       "      <td>img/14_03.jpg</td>\n",
       "      <td>THEATERS</td>\n",
       "      <td>{'height': '87', 'width': '281', 'x': '839', '...</td>\n",
       "      <td>839</td>\n",
       "      <td>283</td>\n",
       "      <td>1120</td>\n",
       "      <td>370</td>\n",
       "    </tr>\n",
       "    <tr>\n",
       "      <th>3</th>\n",
       "      <td>img/14_04.jpg</td>\n",
       "      <td>INSURANCE</td>\n",
       "      <td>{'height': '64', 'width': '366', 'x': '571', '...</td>\n",
       "      <td>571</td>\n",
       "      <td>344</td>\n",
       "      <td>937</td>\n",
       "      <td>408</td>\n",
       "    </tr>\n",
       "    <tr>\n",
       "      <th>4</th>\n",
       "      <td>img/14_04.jpg</td>\n",
       "      <td>STANDARD</td>\n",
       "      <td>{'height': '84', 'width': '354', 'x': '180', '...</td>\n",
       "      <td>180</td>\n",
       "      <td>310</td>\n",
       "      <td>534</td>\n",
       "      <td>394</td>\n",
       "    </tr>\n",
       "    <tr>\n",
       "      <th>...</th>\n",
       "      <td>...</td>\n",
       "      <td>...</td>\n",
       "      <td>...</td>\n",
       "      <td>...</td>\n",
       "      <td>...</td>\n",
       "      <td>...</td>\n",
       "      <td>...</td>\n",
       "    </tr>\n",
       "    <tr>\n",
       "      <th>252</th>\n",
       "      <td>img/11_11.jpg</td>\n",
       "      <td>CENTER</td>\n",
       "      <td>{'height': '41', 'width': '95', 'x': '722', 'y...</td>\n",
       "      <td>722</td>\n",
       "      <td>332</td>\n",
       "      <td>817</td>\n",
       "      <td>373</td>\n",
       "    </tr>\n",
       "    <tr>\n",
       "      <th>253</th>\n",
       "      <td>img/11_11.jpg</td>\n",
       "      <td>PERFORMING</td>\n",
       "      <td>{'height': '36', 'width': '131', 'x': '528', '...</td>\n",
       "      <td>528</td>\n",
       "      <td>331</td>\n",
       "      <td>659</td>\n",
       "      <td>367</td>\n",
       "    </tr>\n",
       "    <tr>\n",
       "      <th>254</th>\n",
       "      <td>img/11_11.jpg</td>\n",
       "      <td>ORLANDO</td>\n",
       "      <td>{'height': '23', 'width': '67', 'x': '521', 'y...</td>\n",
       "      <td>521</td>\n",
       "      <td>391</td>\n",
       "      <td>588</td>\n",
       "      <td>414</td>\n",
       "    </tr>\n",
       "    <tr>\n",
       "      <th>255</th>\n",
       "      <td>img/04_16.jpg</td>\n",
       "      <td>BLOCKBUSTER</td>\n",
       "      <td>{'height': '61', 'width': '281', 'x': '467', '...</td>\n",
       "      <td>467</td>\n",
       "      <td>497</td>\n",
       "      <td>748</td>\n",
       "      <td>558</td>\n",
       "    </tr>\n",
       "    <tr>\n",
       "      <th>256</th>\n",
       "      <td>img/04_16.jpg</td>\n",
       "      <td>VIDEO</td>\n",
       "      <td>{'height': '58', 'width': '114', 'x': '750', '...</td>\n",
       "      <td>750</td>\n",
       "      <td>497</td>\n",
       "      <td>864</td>\n",
       "      <td>555</td>\n",
       "    </tr>\n",
       "  </tbody>\n",
       "</table>\n",
       "<p>257 rows × 7 columns</p>\n",
       "</div>"
      ],
      "text/plain": [
       "         imageName         tags  \\\n",
       "0    img/14_03.jpg       LIVING   \n",
       "1    img/14_03.jpg         ROOM   \n",
       "2    img/14_03.jpg     THEATERS   \n",
       "3    img/14_04.jpg    INSURANCE   \n",
       "4    img/14_04.jpg     STANDARD   \n",
       "..             ...          ...   \n",
       "252  img/11_11.jpg       CENTER   \n",
       "253  img/11_11.jpg   PERFORMING   \n",
       "254  img/11_11.jpg      ORLANDO   \n",
       "255  img/04_16.jpg  BLOCKBUSTER   \n",
       "256  img/04_16.jpg        VIDEO   \n",
       "\n",
       "                                                labels   x1   y1    x2   y2  \n",
       "0    {'height': '75', 'width': '236', 'x': '375', '...  375  253   611  328  \n",
       "1    {'height': '76', 'width': '175', 'x': '639', '...  639  272   814  348  \n",
       "2    {'height': '87', 'width': '281', 'x': '839', '...  839  283  1120  370  \n",
       "3    {'height': '64', 'width': '366', 'x': '571', '...  571  344   937  408  \n",
       "4    {'height': '84', 'width': '354', 'x': '180', '...  180  310   534  394  \n",
       "..                                                 ...  ...  ...   ...  ...  \n",
       "252  {'height': '41', 'width': '95', 'x': '722', 'y...  722  332   817  373  \n",
       "253  {'height': '36', 'width': '131', 'x': '528', '...  528  331   659  367  \n",
       "254  {'height': '23', 'width': '67', 'x': '521', 'y...  521  391   588  414  \n",
       "255  {'height': '61', 'width': '281', 'x': '467', '...  467  497   748  558  \n",
       "256  {'height': '58', 'width': '114', 'x': '750', '...  750  497   864  555  \n",
       "\n",
       "[257 rows x 7 columns]"
      ]
     },
     "execution_count": 24,
     "metadata": {},
     "output_type": "execute_result"
    }
   ],
   "source": [
    "dataset"
   ]
  },
  {
   "cell_type": "code",
   "execution_count": 112,
   "metadata": {},
   "outputs": [
    {
     "name": "stdout",
     "output_type": "stream",
     "text": [
      "\u001b[0m\u001b[01;34msvt\u001b[0m/  \u001b[01;31msvt.zip\u001b[0m  train.csv  Untitled.ipynb\r\n"
     ]
    }
   ],
   "source": [
    "ls"
   ]
  },
  {
   "cell_type": "code",
   "execution_count": 25,
   "metadata": {
    "scrolled": true
   },
   "outputs": [
    {
     "data": {
      "text/plain": [
       "257"
      ]
     },
     "execution_count": 25,
     "metadata": {},
     "output_type": "execute_result"
    }
   ],
   "source": [
    "lesimages = dataset['imageName'].tolist()\n",
    "len(lesimages)"
   ]
  },
  {
   "cell_type": "code",
   "execution_count": 26,
   "metadata": {},
   "outputs": [],
   "source": [
    "liens = [\"./svt/svt1/\"]*257"
   ]
  },
  {
   "cell_type": "code",
   "execution_count": 27,
   "metadata": {},
   "outputs": [
    {
     "data": {
      "text/plain": [
       "'./svt/svt1/img/14_03.jpg'"
      ]
     },
     "execution_count": 27,
     "metadata": {},
     "output_type": "execute_result"
    }
   ],
   "source": [
    "liens[1] + lesimages[1]"
   ]
  },
  {
   "cell_type": "code",
   "execution_count": 28,
   "metadata": {},
   "outputs": [],
   "source": [
    "#liens  \n",
    "#lesimages\n",
    "jointure = []\n",
    "for i in range(257):\n",
    "    \n",
    "    joint = liens[i] + lesimages[i]\n",
    "    \n",
    "    jointure.append(joint)\n",
    "#jointure"
   ]
  },
  {
   "cell_type": "code",
   "execution_count": 29,
   "metadata": {},
   "outputs": [
    {
     "data": {
      "text/plain": [
       "['./svt/svt1/img/14_03.jpg',\n",
       " './svt/svt1/img/14_03.jpg',\n",
       " './svt/svt1/img/14_03.jpg',\n",
       " './svt/svt1/img/14_04.jpg',\n",
       " './svt/svt1/img/14_04.jpg',\n",
       " './svt/svt1/img/14_04.jpg',\n",
       " './svt/svt1/img/06_08.jpg',\n",
       " './svt/svt1/img/06_08.jpg',\n",
       " './svt/svt1/img/06_08.jpg',\n",
       " './svt/svt1/img/06_08.jpg',\n",
       " './svt/svt1/img/00_12.jpg',\n",
       " './svt/svt1/img/15_15.jpg',\n",
       " './svt/svt1/img/15_15.jpg',\n",
       " './svt/svt1/img/04_04.jpg',\n",
       " './svt/svt1/img/04_04.jpg',\n",
       " './svt/svt1/img/04_04.jpg',\n",
       " './svt/svt1/img/12_07.jpg',\n",
       " './svt/svt1/img/12_07.jpg',\n",
       " './svt/svt1/img/06_11.jpg',\n",
       " './svt/svt1/img/06_11.jpg',\n",
       " './svt/svt1/img/08_16.jpg',\n",
       " './svt/svt1/img/05_12.jpg',\n",
       " './svt/svt1/img/05_12.jpg',\n",
       " './svt/svt1/img/00_08.jpg',\n",
       " './svt/svt1/img/00_08.jpg',\n",
       " './svt/svt1/img/00_08.jpg',\n",
       " './svt/svt1/img/00_08.jpg',\n",
       " './svt/svt1/img/00_01.jpg',\n",
       " './svt/svt1/img/00_01.jpg',\n",
       " './svt/svt1/img/00_01.jpg',\n",
       " './svt/svt1/img/00_01.jpg',\n",
       " './svt/svt1/img/00_01.jpg',\n",
       " './svt/svt1/img/01_10.jpg',\n",
       " './svt/svt1/img/01_10.jpg',\n",
       " './svt/svt1/img/01_10.jpg',\n",
       " './svt/svt1/img/03_19.jpg',\n",
       " './svt/svt1/img/03_19.jpg',\n",
       " './svt/svt1/img/00_09.jpg',\n",
       " './svt/svt1/img/00_09.jpg',\n",
       " './svt/svt1/img/16_19.jpg',\n",
       " './svt/svt1/img/16_19.jpg',\n",
       " './svt/svt1/img/02_19.jpg',\n",
       " './svt/svt1/img/02_19.jpg',\n",
       " './svt/svt1/img/12_11.jpg',\n",
       " './svt/svt1/img/12_11.jpg',\n",
       " './svt/svt1/img/12_11.jpg',\n",
       " './svt/svt1/img/00_14.jpg',\n",
       " './svt/svt1/img/00_14.jpg',\n",
       " './svt/svt1/img/00_14.jpg',\n",
       " './svt/svt1/img/09_06.jpg',\n",
       " './svt/svt1/img/09_06.jpg',\n",
       " './svt/svt1/img/09_06.jpg',\n",
       " './svt/svt1/img/02_04.jpg',\n",
       " './svt/svt1/img/02_04.jpg',\n",
       " './svt/svt1/img/02_04.jpg',\n",
       " './svt/svt1/img/02_04.jpg',\n",
       " './svt/svt1/img/02_04.jpg',\n",
       " './svt/svt1/img/03_10.jpg',\n",
       " './svt/svt1/img/18_12.jpg',\n",
       " './svt/svt1/img/15_02.jpg',\n",
       " './svt/svt1/img/15_02.jpg',\n",
       " './svt/svt1/img/14_16.jpg',\n",
       " './svt/svt1/img/14_16.jpg',\n",
       " './svt/svt1/img/03_08.jpg',\n",
       " './svt/svt1/img/06_05.jpg',\n",
       " './svt/svt1/img/06_05.jpg',\n",
       " './svt/svt1/img/06_05.jpg',\n",
       " './svt/svt1/img/01_02.jpg',\n",
       " './svt/svt1/img/09_04.jpg',\n",
       " './svt/svt1/img/09_04.jpg',\n",
       " './svt/svt1/img/14_15.jpg',\n",
       " './svt/svt1/img/16_09.jpg',\n",
       " './svt/svt1/img/16_09.jpg',\n",
       " './svt/svt1/img/11_14.jpg',\n",
       " './svt/svt1/img/11_14.jpg',\n",
       " './svt/svt1/img/11_14.jpg',\n",
       " './svt/svt1/img/11_14.jpg',\n",
       " './svt/svt1/img/17_04.jpg',\n",
       " './svt/svt1/img/04_03.jpg',\n",
       " './svt/svt1/img/04_03.jpg',\n",
       " './svt/svt1/img/08_01.jpg',\n",
       " './svt/svt1/img/08_01.jpg',\n",
       " './svt/svt1/img/08_01.jpg',\n",
       " './svt/svt1/img/08_06.jpg',\n",
       " './svt/svt1/img/08_06.jpg',\n",
       " './svt/svt1/img/08_06.jpg',\n",
       " './svt/svt1/img/08_06.jpg',\n",
       " './svt/svt1/img/06_04.jpg',\n",
       " './svt/svt1/img/06_04.jpg',\n",
       " './svt/svt1/img/09_02.jpg',\n",
       " './svt/svt1/img/09_02.jpg',\n",
       " './svt/svt1/img/09_02.jpg',\n",
       " './svt/svt1/img/09_02.jpg',\n",
       " './svt/svt1/img/09_09.jpg',\n",
       " './svt/svt1/img/09_09.jpg',\n",
       " './svt/svt1/img/09_09.jpg',\n",
       " './svt/svt1/img/17_19.jpg',\n",
       " './svt/svt1/img/17_19.jpg',\n",
       " './svt/svt1/img/16_00.jpg',\n",
       " './svt/svt1/img/16_00.jpg',\n",
       " './svt/svt1/img/16_00.jpg',\n",
       " './svt/svt1/img/16_00.jpg',\n",
       " './svt/svt1/img/13_05.jpg',\n",
       " './svt/svt1/img/07_14.jpg',\n",
       " './svt/svt1/img/07_14.jpg',\n",
       " './svt/svt1/img/07_14.jpg',\n",
       " './svt/svt1/img/07_14.jpg',\n",
       " './svt/svt1/img/07_14.jpg',\n",
       " './svt/svt1/img/07_14.jpg',\n",
       " './svt/svt1/img/07_14.jpg',\n",
       " './svt/svt1/img/07_14.jpg',\n",
       " './svt/svt1/img/07_14.jpg',\n",
       " './svt/svt1/img/08_19.jpg',\n",
       " './svt/svt1/img/17_11.jpg',\n",
       " './svt/svt1/img/17_11.jpg',\n",
       " './svt/svt1/img/07_05.jpg',\n",
       " './svt/svt1/img/07_05.jpg',\n",
       " './svt/svt1/img/07_11.jpg',\n",
       " './svt/svt1/img/07_11.jpg',\n",
       " './svt/svt1/img/07_11.jpg',\n",
       " './svt/svt1/img/07_00.jpg',\n",
       " './svt/svt1/img/07_00.jpg',\n",
       " './svt/svt1/img/07_00.jpg',\n",
       " './svt/svt1/img/14_00.jpg',\n",
       " './svt/svt1/img/14_00.jpg',\n",
       " './svt/svt1/img/14_00.jpg',\n",
       " './svt/svt1/img/14_00.jpg',\n",
       " './svt/svt1/img/05_09.jpg',\n",
       " './svt/svt1/img/05_09.jpg',\n",
       " './svt/svt1/img/05_09.jpg',\n",
       " './svt/svt1/img/05_09.jpg',\n",
       " './svt/svt1/img/05_09.jpg',\n",
       " './svt/svt1/img/05_09.jpg',\n",
       " './svt/svt1/img/05_09.jpg',\n",
       " './svt/svt1/img/16_05.jpg',\n",
       " './svt/svt1/img/16_05.jpg',\n",
       " './svt/svt1/img/16_05.jpg',\n",
       " './svt/svt1/img/16_05.jpg',\n",
       " './svt/svt1/img/06_01.jpg',\n",
       " './svt/svt1/img/06_01.jpg',\n",
       " './svt/svt1/img/17_12.jpg',\n",
       " './svt/svt1/img/17_12.jpg',\n",
       " './svt/svt1/img/09_05.jpg',\n",
       " './svt/svt1/img/02_14.jpg',\n",
       " './svt/svt1/img/16_03.jpg',\n",
       " './svt/svt1/img/16_03.jpg',\n",
       " './svt/svt1/img/05_08.jpg',\n",
       " './svt/svt1/img/05_08.jpg',\n",
       " './svt/svt1/img/06_15.jpg',\n",
       " './svt/svt1/img/06_15.jpg',\n",
       " './svt/svt1/img/06_15.jpg',\n",
       " './svt/svt1/img/15_16.jpg',\n",
       " './svt/svt1/img/15_16.jpg',\n",
       " './svt/svt1/img/15_16.jpg',\n",
       " './svt/svt1/img/15_14.jpg',\n",
       " './svt/svt1/img/15_14.jpg',\n",
       " './svt/svt1/img/15_14.jpg',\n",
       " './svt/svt1/img/15_14.jpg',\n",
       " './svt/svt1/img/15_14.jpg',\n",
       " './svt/svt1/img/12_19.jpg',\n",
       " './svt/svt1/img/12_19.jpg',\n",
       " './svt/svt1/img/08_02.jpg',\n",
       " './svt/svt1/img/08_15.jpg',\n",
       " './svt/svt1/img/08_15.jpg',\n",
       " './svt/svt1/img/14_11.jpg',\n",
       " './svt/svt1/img/14_11.jpg',\n",
       " './svt/svt1/img/14_11.jpg',\n",
       " './svt/svt1/img/14_11.jpg',\n",
       " './svt/svt1/img/13_18.jpg',\n",
       " './svt/svt1/img/13_18.jpg',\n",
       " './svt/svt1/img/13_18.jpg',\n",
       " './svt/svt1/img/06_02.jpg',\n",
       " './svt/svt1/img/06_02.jpg',\n",
       " './svt/svt1/img/06_02.jpg',\n",
       " './svt/svt1/img/06_02.jpg',\n",
       " './svt/svt1/img/15_01.jpg',\n",
       " './svt/svt1/img/15_01.jpg',\n",
       " './svt/svt1/img/14_19.jpg',\n",
       " './svt/svt1/img/14_19.jpg',\n",
       " './svt/svt1/img/14_19.jpg',\n",
       " './svt/svt1/img/14_19.jpg',\n",
       " './svt/svt1/img/09_17.jpg',\n",
       " './svt/svt1/img/09_17.jpg',\n",
       " './svt/svt1/img/09_17.jpg',\n",
       " './svt/svt1/img/13_09.jpg',\n",
       " './svt/svt1/img/13_09.jpg',\n",
       " './svt/svt1/img/00_00.jpg',\n",
       " './svt/svt1/img/00_00.jpg',\n",
       " './svt/svt1/img/16_10.jpg',\n",
       " './svt/svt1/img/16_10.jpg',\n",
       " './svt/svt1/img/16_10.jpg',\n",
       " './svt/svt1/img/16_10.jpg',\n",
       " './svt/svt1/img/17_01.jpg',\n",
       " './svt/svt1/img/17_01.jpg',\n",
       " './svt/svt1/img/04_15.jpg',\n",
       " './svt/svt1/img/04_15.jpg',\n",
       " './svt/svt1/img/04_15.jpg',\n",
       " './svt/svt1/img/04_15.jpg',\n",
       " './svt/svt1/img/16_08.jpg',\n",
       " './svt/svt1/img/02_11.jpg',\n",
       " './svt/svt1/img/02_11.jpg',\n",
       " './svt/svt1/img/06_14.jpg',\n",
       " './svt/svt1/img/15_18.jpg',\n",
       " './svt/svt1/img/15_18.jpg',\n",
       " './svt/svt1/img/01_18.jpg',\n",
       " './svt/svt1/img/01_18.jpg',\n",
       " './svt/svt1/img/08_10.jpg',\n",
       " './svt/svt1/img/10_02.jpg',\n",
       " './svt/svt1/img/10_02.jpg',\n",
       " './svt/svt1/img/10_02.jpg',\n",
       " './svt/svt1/img/07_16.jpg',\n",
       " './svt/svt1/img/07_16.jpg',\n",
       " './svt/svt1/img/07_16.jpg',\n",
       " './svt/svt1/img/09_08.jpg',\n",
       " './svt/svt1/img/09_08.jpg',\n",
       " './svt/svt1/img/09_08.jpg',\n",
       " './svt/svt1/img/18_14.jpg',\n",
       " './svt/svt1/img/16_07.jpg',\n",
       " './svt/svt1/img/16_07.jpg',\n",
       " './svt/svt1/img/18_05.jpg',\n",
       " './svt/svt1/img/01_09.jpg',\n",
       " './svt/svt1/img/03_07.jpg',\n",
       " './svt/svt1/img/03_07.jpg',\n",
       " './svt/svt1/img/15_07.jpg',\n",
       " './svt/svt1/img/15_07.jpg',\n",
       " './svt/svt1/img/05_03.jpg',\n",
       " './svt/svt1/img/05_03.jpg',\n",
       " './svt/svt1/img/05_03.jpg',\n",
       " './svt/svt1/img/02_07.jpg',\n",
       " './svt/svt1/img/02_07.jpg',\n",
       " './svt/svt1/img/02_07.jpg',\n",
       " './svt/svt1/img/06_06.jpg',\n",
       " './svt/svt1/img/06_06.jpg',\n",
       " './svt/svt1/img/02_12.jpg',\n",
       " './svt/svt1/img/02_12.jpg',\n",
       " './svt/svt1/img/02_12.jpg',\n",
       " './svt/svt1/img/03_13.jpg',\n",
       " './svt/svt1/img/03_13.jpg',\n",
       " './svt/svt1/img/18_11.jpg',\n",
       " './svt/svt1/img/18_11.jpg',\n",
       " './svt/svt1/img/18_11.jpg',\n",
       " './svt/svt1/img/18_11.jpg',\n",
       " './svt/svt1/img/15_13.jpg',\n",
       " './svt/svt1/img/15_13.jpg',\n",
       " './svt/svt1/img/15_09.jpg',\n",
       " './svt/svt1/img/15_09.jpg',\n",
       " './svt/svt1/img/15_09.jpg',\n",
       " './svt/svt1/img/15_09.jpg',\n",
       " './svt/svt1/img/05_07.jpg',\n",
       " './svt/svt1/img/11_11.jpg',\n",
       " './svt/svt1/img/11_11.jpg',\n",
       " './svt/svt1/img/11_11.jpg',\n",
       " './svt/svt1/img/11_11.jpg',\n",
       " './svt/svt1/img/11_11.jpg',\n",
       " './svt/svt1/img/11_11.jpg',\n",
       " './svt/svt1/img/04_16.jpg',\n",
       " './svt/svt1/img/04_16.jpg']"
      ]
     },
     "execution_count": 29,
     "metadata": {},
     "output_type": "execute_result"
    }
   ],
   "source": [
    "jointure"
   ]
  },
  {
   "cell_type": "code",
   "execution_count": 30,
   "metadata": {},
   "outputs": [],
   "source": [
    "imagewidthhh = []\n",
    "imageheighttt = []\n",
    "\n",
    "for thing in jointure:\n",
    "    image = PIL.Image.open(thing)\n",
    "    width, height = image.size\n",
    "\n",
    "    imagewidthhh.append(image.size[0])\n",
    "    imageheighttt.append(image.size[1])\n",
    "    "
   ]
  },
  {
   "cell_type": "code",
   "execution_count": 31,
   "metadata": {},
   "outputs": [
    {
     "data": {
      "text/plain": [
       "257"
      ]
     },
     "execution_count": 31,
     "metadata": {},
     "output_type": "execute_result"
    }
   ],
   "source": [
    "len(imagewidthhh)"
   ]
  },
  {
   "cell_type": "code",
   "execution_count": 32,
   "metadata": {},
   "outputs": [],
   "source": [
    "dataset['joint'] = jointure\n",
    "dataset['imagewidth'] = imagewidthhh\n",
    "dataset['imageheight'] = imageheighttt"
   ]
  },
  {
   "cell_type": "code",
   "execution_count": 33,
   "metadata": {
    "scrolled": true
   },
   "outputs": [
    {
     "data": {
      "text/html": [
       "<div>\n",
       "<style scoped>\n",
       "    .dataframe tbody tr th:only-of-type {\n",
       "        vertical-align: middle;\n",
       "    }\n",
       "\n",
       "    .dataframe tbody tr th {\n",
       "        vertical-align: top;\n",
       "    }\n",
       "\n",
       "    .dataframe thead th {\n",
       "        text-align: right;\n",
       "    }\n",
       "</style>\n",
       "<table border=\"1\" class=\"dataframe\">\n",
       "  <thead>\n",
       "    <tr style=\"text-align: right;\">\n",
       "      <th></th>\n",
       "      <th>imageName</th>\n",
       "      <th>tags</th>\n",
       "      <th>labels</th>\n",
       "      <th>x1</th>\n",
       "      <th>y1</th>\n",
       "      <th>x2</th>\n",
       "      <th>y2</th>\n",
       "      <th>joint</th>\n",
       "      <th>imagewidth</th>\n",
       "      <th>imageheight</th>\n",
       "    </tr>\n",
       "  </thead>\n",
       "  <tbody>\n",
       "    <tr>\n",
       "      <th>0</th>\n",
       "      <td>img/14_03.jpg</td>\n",
       "      <td>LIVING</td>\n",
       "      <td>{'height': '75', 'width': '236', 'x': '375', '...</td>\n",
       "      <td>375</td>\n",
       "      <td>253</td>\n",
       "      <td>611</td>\n",
       "      <td>328</td>\n",
       "      <td>./svt/svt1/img/14_03.jpg</td>\n",
       "      <td>1280</td>\n",
       "      <td>880</td>\n",
       "    </tr>\n",
       "    <tr>\n",
       "      <th>1</th>\n",
       "      <td>img/14_03.jpg</td>\n",
       "      <td>ROOM</td>\n",
       "      <td>{'height': '76', 'width': '175', 'x': '639', '...</td>\n",
       "      <td>639</td>\n",
       "      <td>272</td>\n",
       "      <td>814</td>\n",
       "      <td>348</td>\n",
       "      <td>./svt/svt1/img/14_03.jpg</td>\n",
       "      <td>1280</td>\n",
       "      <td>880</td>\n",
       "    </tr>\n",
       "    <tr>\n",
       "      <th>2</th>\n",
       "      <td>img/14_03.jpg</td>\n",
       "      <td>THEATERS</td>\n",
       "      <td>{'height': '87', 'width': '281', 'x': '839', '...</td>\n",
       "      <td>839</td>\n",
       "      <td>283</td>\n",
       "      <td>1120</td>\n",
       "      <td>370</td>\n",
       "      <td>./svt/svt1/img/14_03.jpg</td>\n",
       "      <td>1280</td>\n",
       "      <td>880</td>\n",
       "    </tr>\n",
       "    <tr>\n",
       "      <th>3</th>\n",
       "      <td>img/14_04.jpg</td>\n",
       "      <td>INSURANCE</td>\n",
       "      <td>{'height': '64', 'width': '366', 'x': '571', '...</td>\n",
       "      <td>571</td>\n",
       "      <td>344</td>\n",
       "      <td>937</td>\n",
       "      <td>408</td>\n",
       "      <td>./svt/svt1/img/14_04.jpg</td>\n",
       "      <td>1276</td>\n",
       "      <td>884</td>\n",
       "    </tr>\n",
       "    <tr>\n",
       "      <th>4</th>\n",
       "      <td>img/14_04.jpg</td>\n",
       "      <td>STANDARD</td>\n",
       "      <td>{'height': '84', 'width': '354', 'x': '180', '...</td>\n",
       "      <td>180</td>\n",
       "      <td>310</td>\n",
       "      <td>534</td>\n",
       "      <td>394</td>\n",
       "      <td>./svt/svt1/img/14_04.jpg</td>\n",
       "      <td>1276</td>\n",
       "      <td>884</td>\n",
       "    </tr>\n",
       "    <tr>\n",
       "      <th>...</th>\n",
       "      <td>...</td>\n",
       "      <td>...</td>\n",
       "      <td>...</td>\n",
       "      <td>...</td>\n",
       "      <td>...</td>\n",
       "      <td>...</td>\n",
       "      <td>...</td>\n",
       "      <td>...</td>\n",
       "      <td>...</td>\n",
       "      <td>...</td>\n",
       "    </tr>\n",
       "    <tr>\n",
       "      <th>252</th>\n",
       "      <td>img/11_11.jpg</td>\n",
       "      <td>CENTER</td>\n",
       "      <td>{'height': '41', 'width': '95', 'x': '722', 'y...</td>\n",
       "      <td>722</td>\n",
       "      <td>332</td>\n",
       "      <td>817</td>\n",
       "      <td>373</td>\n",
       "      <td>./svt/svt1/img/11_11.jpg</td>\n",
       "      <td>1280</td>\n",
       "      <td>800</td>\n",
       "    </tr>\n",
       "    <tr>\n",
       "      <th>253</th>\n",
       "      <td>img/11_11.jpg</td>\n",
       "      <td>PERFORMING</td>\n",
       "      <td>{'height': '36', 'width': '131', 'x': '528', '...</td>\n",
       "      <td>528</td>\n",
       "      <td>331</td>\n",
       "      <td>659</td>\n",
       "      <td>367</td>\n",
       "      <td>./svt/svt1/img/11_11.jpg</td>\n",
       "      <td>1280</td>\n",
       "      <td>800</td>\n",
       "    </tr>\n",
       "    <tr>\n",
       "      <th>254</th>\n",
       "      <td>img/11_11.jpg</td>\n",
       "      <td>ORLANDO</td>\n",
       "      <td>{'height': '23', 'width': '67', 'x': '521', 'y...</td>\n",
       "      <td>521</td>\n",
       "      <td>391</td>\n",
       "      <td>588</td>\n",
       "      <td>414</td>\n",
       "      <td>./svt/svt1/img/11_11.jpg</td>\n",
       "      <td>1280</td>\n",
       "      <td>800</td>\n",
       "    </tr>\n",
       "    <tr>\n",
       "      <th>255</th>\n",
       "      <td>img/04_16.jpg</td>\n",
       "      <td>BLOCKBUSTER</td>\n",
       "      <td>{'height': '61', 'width': '281', 'x': '467', '...</td>\n",
       "      <td>467</td>\n",
       "      <td>497</td>\n",
       "      <td>748</td>\n",
       "      <td>558</td>\n",
       "      <td>./svt/svt1/img/04_16.jpg</td>\n",
       "      <td>1280</td>\n",
       "      <td>1024</td>\n",
       "    </tr>\n",
       "    <tr>\n",
       "      <th>256</th>\n",
       "      <td>img/04_16.jpg</td>\n",
       "      <td>VIDEO</td>\n",
       "      <td>{'height': '58', 'width': '114', 'x': '750', '...</td>\n",
       "      <td>750</td>\n",
       "      <td>497</td>\n",
       "      <td>864</td>\n",
       "      <td>555</td>\n",
       "      <td>./svt/svt1/img/04_16.jpg</td>\n",
       "      <td>1280</td>\n",
       "      <td>1024</td>\n",
       "    </tr>\n",
       "  </tbody>\n",
       "</table>\n",
       "<p>257 rows × 10 columns</p>\n",
       "</div>"
      ],
      "text/plain": [
       "         imageName         tags  \\\n",
       "0    img/14_03.jpg       LIVING   \n",
       "1    img/14_03.jpg         ROOM   \n",
       "2    img/14_03.jpg     THEATERS   \n",
       "3    img/14_04.jpg    INSURANCE   \n",
       "4    img/14_04.jpg     STANDARD   \n",
       "..             ...          ...   \n",
       "252  img/11_11.jpg       CENTER   \n",
       "253  img/11_11.jpg   PERFORMING   \n",
       "254  img/11_11.jpg      ORLANDO   \n",
       "255  img/04_16.jpg  BLOCKBUSTER   \n",
       "256  img/04_16.jpg        VIDEO   \n",
       "\n",
       "                                                labels   x1   y1    x2   y2  \\\n",
       "0    {'height': '75', 'width': '236', 'x': '375', '...  375  253   611  328   \n",
       "1    {'height': '76', 'width': '175', 'x': '639', '...  639  272   814  348   \n",
       "2    {'height': '87', 'width': '281', 'x': '839', '...  839  283  1120  370   \n",
       "3    {'height': '64', 'width': '366', 'x': '571', '...  571  344   937  408   \n",
       "4    {'height': '84', 'width': '354', 'x': '180', '...  180  310   534  394   \n",
       "..                                                 ...  ...  ...   ...  ...   \n",
       "252  {'height': '41', 'width': '95', 'x': '722', 'y...  722  332   817  373   \n",
       "253  {'height': '36', 'width': '131', 'x': '528', '...  528  331   659  367   \n",
       "254  {'height': '23', 'width': '67', 'x': '521', 'y...  521  391   588  414   \n",
       "255  {'height': '61', 'width': '281', 'x': '467', '...  467  497   748  558   \n",
       "256  {'height': '58', 'width': '114', 'x': '750', '...  750  497   864  555   \n",
       "\n",
       "                        joint  imagewidth  imageheight  \n",
       "0    ./svt/svt1/img/14_03.jpg        1280          880  \n",
       "1    ./svt/svt1/img/14_03.jpg        1280          880  \n",
       "2    ./svt/svt1/img/14_03.jpg        1280          880  \n",
       "3    ./svt/svt1/img/14_04.jpg        1276          884  \n",
       "4    ./svt/svt1/img/14_04.jpg        1276          884  \n",
       "..                        ...         ...          ...  \n",
       "252  ./svt/svt1/img/11_11.jpg        1280          800  \n",
       "253  ./svt/svt1/img/11_11.jpg        1280          800  \n",
       "254  ./svt/svt1/img/11_11.jpg        1280          800  \n",
       "255  ./svt/svt1/img/04_16.jpg        1280         1024  \n",
       "256  ./svt/svt1/img/04_16.jpg        1280         1024  \n",
       "\n",
       "[257 rows x 10 columns]"
      ]
     },
     "execution_count": 33,
     "metadata": {},
     "output_type": "execute_result"
    }
   ],
   "source": [
    "dataset"
   ]
  },
  {
   "cell_type": "code",
   "execution_count": 60,
   "metadata": {},
   "outputs": [
    {
     "name": "stdout",
     "output_type": "stream",
     "text": [
      "\u001b[0m\u001b[01;34m100images\u001b[0m/  \u001b[01;34msvt\u001b[0m/  \u001b[01;31msvt.zip\u001b[0m  train.csv  Untitled.ipynb\r\n"
     ]
    }
   ],
   "source": [
    "ls"
   ]
  },
  {
   "cell_type": "code",
   "execution_count": 122,
   "metadata": {},
   "outputs": [],
   "source": [
    "images = \"./images\""
   ]
  },
  {
   "cell_type": "code",
   "execution_count": 109,
   "metadata": {},
   "outputs": [
    {
     "data": {
      "text/plain": [
       "100"
      ]
     },
     "execution_count": 109,
     "metadata": {},
     "output_type": "execute_result"
    }
   ],
   "source": [
    "les_noms = dataset['imageName'].unique().tolist()"
   ]
  },
  {
   "cell_type": "code",
   "execution_count": 125,
   "metadata": {},
   "outputs": [
    {
     "data": {
      "text/plain": [
       "257"
      ]
     },
     "execution_count": 125,
     "metadata": {},
     "output_type": "execute_result"
    }
   ],
   "source": [
    "len(listededico)"
   ]
  },
  {
   "cell_type": "code",
   "execution_count": 123,
   "metadata": {},
   "outputs": [
    {
     "name": "stderr",
     "output_type": "stream",
     "text": [
      "100%|██████████| 100/100 [00:12<00:00,  8.29it/s]\n"
     ]
    }
   ],
   "source": [
    "def data_for_scoremap(csv)\n",
    "\n",
    "dataset = pd.read_csv(csv)  #load the dataset\n",
    "listededico = dataset['labels'].tolist()  #store the labels column to a list\n",
    "\n",
    "realdico = []\n",
    "height = []\n",
    "width = []\n",
    "exes = []\n",
    "wayy = []\n",
    "\n",
    "for i in range(len(listededico)):\n",
    "    alpha = ast.literal_eval(listededico[i])  #convert a string of dico to a real dico\n",
    "    \n",
    "    realdico.append(alpha)\n",
    "\n",
    "for i in range(len(listededico)):\n",
    "    height.append(int(realdico[i]['height']))    \n",
    "    \n",
    "for i in range(len(listededico)):\n",
    "    width.append(int(realdico[i]['width'])) \n",
    "    \n",
    "for i in range(len(listededico)):\n",
    "    exes.append(int(realdico[i]['x']))\n",
    "    \n",
    "for i in range(len(listededico)):\n",
    "    wayy.append(int(realdico[i]['y']))\n",
    "    \n",
    "exes1 = exes\n",
    "wayy1 = wayy\n",
    "\n",
    "exes2 = [x + y for x, y in zip(exes, width)]  #add up both lists\n",
    "\n",
    "wayy2 = [a + b for a, b in zip(wayy, height)]  #add up both lists\n",
    "\n",
    "dataset['x1'] = exes1\n",
    "dataset['y1'] = wayy1\n",
    "dataset['x2'] = exes2\n",
    "dataset['y2'] = wayy2\n",
    "\n",
    "\n",
    "lesimages = dataset['imageName'].tolist()\n",
    "\n",
    "liens = [\"./svt/svt1/\"]*len(lesimages)\n",
    "\n",
    "jointure = []\n",
    "for i in range(len(lesimages)):\n",
    "    \n",
    "    joint = liens[i] + lesimages[i]\n",
    "    \n",
    "    jointure.append(joint)\n",
    "\n",
    "imagewidthhh = []\n",
    "imageheighttt = []\n",
    "\n",
    "for thing in jointure:\n",
    "    image = PIL.Image.open(thing)\n",
    "    width, height = image.size\n",
    "\n",
    "    imagewidthhh.append(image.size[0])\n",
    "    imageheighttt.append(image.size[1])\n",
    "\n",
    "dataset['joint'] = jointure\n",
    "dataset['imagewidth'] = imagewidthhh\n",
    "dataset['imageheight'] = imageheighttt\n",
    "\n",
    "les_noms = dataset['imageName'].unique().tolist()\n",
    "\n",
    "for noms in tqdm(les_noms):\n",
    "    #firstimage = (dataset['imageName'] == noms)\n",
    "    groupe_of_first_image = dataset[dataset['imageName'] == noms]\n",
    "    groupe = groupe_of_first_image.reset_index(drop=True)\n",
    "    \n",
    "    matrix = (np.zeros(((groupe.iloc[0, 9]), (groupe.iloc[0, 8]))))\n",
    "    for i in range(len(groupe)):\n",
    "\n",
    "        #matrix = (np.zeros(((groupe.iloc[i, 9]), (groupe.iloc[i, 8]))))\n",
    "\n",
    "        block = (np.zeros(((groupe.iloc[i, 9]), (groupe.iloc[i, 8]))))\n",
    "\n",
    "        #block = (np.ones(((groupe.iloc[i, 6]) - (groupe.iloc[i, 4])), ((groupe.iloc[i, 5]) - (groupe.iloc[i, 3]))))\n",
    "\n",
    "        block[(groupe.iloc[i, 4]):(groupe.iloc[i, 6]), (groupe.iloc[i, 3]):(groupe.iloc[i, 5])] = 1\n",
    "\n",
    "        matrix = np.add(matrix, block) #matrix + block\n",
    "\n",
    "    #plt.imshow(matrix)\n",
    "    #plt.show()\n",
    "    img = Image.fromarray(matrix)\n",
    "    img = img.convert('RGB')\n",
    "    img.save(f'{images}/{noms}')\n",
    "    \n",
    "    \n",
    "    \n",
    "    "
   ]
  },
  {
   "cell_type": "code",
   "execution_count": null,
   "metadata": {},
   "outputs": [],
   "source": []
  },
  {
   "cell_type": "code",
   "execution_count": null,
   "metadata": {},
   "outputs": [],
   "source": []
  },
  {
   "cell_type": "code",
   "execution_count": null,
   "metadata": {},
   "outputs": [],
   "source": []
  },
  {
   "cell_type": "code",
   "execution_count": null,
   "metadata": {},
   "outputs": [],
   "source": []
  },
  {
   "cell_type": "code",
   "execution_count": 34,
   "metadata": {},
   "outputs": [
    {
     "data": {
      "text/plain": [
       "0      False\n",
       "1      False\n",
       "2      False\n",
       "3       True\n",
       "4       True\n",
       "       ...  \n",
       "252    False\n",
       "253    False\n",
       "254    False\n",
       "255    False\n",
       "256    False\n",
       "Name: imageName, Length: 257, dtype: bool"
      ]
     },
     "execution_count": 34,
     "metadata": {},
     "output_type": "execute_result"
    }
   ],
   "source": [
    "firstimage = dataset['imageName'] == 'img/14_04.jpg'\n",
    "firstimage"
   ]
  },
  {
   "cell_type": "code",
   "execution_count": 35,
   "metadata": {},
   "outputs": [],
   "source": [
    "groupeoffirstimage = dataset[firstimage]"
   ]
  },
  {
   "cell_type": "code",
   "execution_count": 36,
   "metadata": {
    "scrolled": true
   },
   "outputs": [],
   "source": [
    "groupe = groupeoffirstimage.reset_index(drop=True)"
   ]
  },
  {
   "cell_type": "code",
   "execution_count": 37,
   "metadata": {},
   "outputs": [
    {
     "data": {
      "text/html": [
       "<div>\n",
       "<style scoped>\n",
       "    .dataframe tbody tr th:only-of-type {\n",
       "        vertical-align: middle;\n",
       "    }\n",
       "\n",
       "    .dataframe tbody tr th {\n",
       "        vertical-align: top;\n",
       "    }\n",
       "\n",
       "    .dataframe thead th {\n",
       "        text-align: right;\n",
       "    }\n",
       "</style>\n",
       "<table border=\"1\" class=\"dataframe\">\n",
       "  <thead>\n",
       "    <tr style=\"text-align: right;\">\n",
       "      <th></th>\n",
       "      <th>imageName</th>\n",
       "      <th>tags</th>\n",
       "      <th>labels</th>\n",
       "      <th>x1</th>\n",
       "      <th>y1</th>\n",
       "      <th>x2</th>\n",
       "      <th>y2</th>\n",
       "      <th>joint</th>\n",
       "      <th>imagewidth</th>\n",
       "      <th>imageheight</th>\n",
       "    </tr>\n",
       "  </thead>\n",
       "  <tbody>\n",
       "    <tr>\n",
       "      <th>0</th>\n",
       "      <td>img/14_04.jpg</td>\n",
       "      <td>INSURANCE</td>\n",
       "      <td>{'height': '64', 'width': '366', 'x': '571', '...</td>\n",
       "      <td>571</td>\n",
       "      <td>344</td>\n",
       "      <td>937</td>\n",
       "      <td>408</td>\n",
       "      <td>./svt/svt1/img/14_04.jpg</td>\n",
       "      <td>1276</td>\n",
       "      <td>884</td>\n",
       "    </tr>\n",
       "    <tr>\n",
       "      <th>1</th>\n",
       "      <td>img/14_04.jpg</td>\n",
       "      <td>STANDARD</td>\n",
       "      <td>{'height': '84', 'width': '354', 'x': '180', '...</td>\n",
       "      <td>180</td>\n",
       "      <td>310</td>\n",
       "      <td>534</td>\n",
       "      <td>394</td>\n",
       "      <td>./svt/svt1/img/14_04.jpg</td>\n",
       "      <td>1276</td>\n",
       "      <td>884</td>\n",
       "    </tr>\n",
       "    <tr>\n",
       "      <th>2</th>\n",
       "      <td>img/14_04.jpg</td>\n",
       "      <td>CENTER</td>\n",
       "      <td>{'height': '64', 'width': '229', 'x': '973', '...</td>\n",
       "      <td>973</td>\n",
       "      <td>359</td>\n",
       "      <td>1202</td>\n",
       "      <td>423</td>\n",
       "      <td>./svt/svt1/img/14_04.jpg</td>\n",
       "      <td>1276</td>\n",
       "      <td>884</td>\n",
       "    </tr>\n",
       "  </tbody>\n",
       "</table>\n",
       "</div>"
      ],
      "text/plain": [
       "       imageName       tags  \\\n",
       "0  img/14_04.jpg  INSURANCE   \n",
       "1  img/14_04.jpg   STANDARD   \n",
       "2  img/14_04.jpg     CENTER   \n",
       "\n",
       "                                              labels   x1   y1    x2   y2  \\\n",
       "0  {'height': '64', 'width': '366', 'x': '571', '...  571  344   937  408   \n",
       "1  {'height': '84', 'width': '354', 'x': '180', '...  180  310   534  394   \n",
       "2  {'height': '64', 'width': '229', 'x': '973', '...  973  359  1202  423   \n",
       "\n",
       "                      joint  imagewidth  imageheight  \n",
       "0  ./svt/svt1/img/14_04.jpg        1276          884  \n",
       "1  ./svt/svt1/img/14_04.jpg        1276          884  \n",
       "2  ./svt/svt1/img/14_04.jpg        1276          884  "
      ]
     },
     "execution_count": 37,
     "metadata": {},
     "output_type": "execute_result"
    }
   ],
   "source": [
    "groupe"
   ]
  },
  {
   "cell_type": "code",
   "execution_count": null,
   "metadata": {},
   "outputs": [],
   "source": []
  },
  {
   "cell_type": "code",
   "execution_count": 43,
   "metadata": {},
   "outputs": [
    {
     "data": {
      "image/png": "[encoded data removed]",
      "text/plain": [
       "<Figure size 432x288 with 1 Axes>"
      ]
     },
     "metadata": {
      "needs_background": "light"
     },
     "output_type": "display_data"
    }
   ],
   "source": [
    "flop = np.zeros((884, 1276))\n",
    "flop[359:423, 973:1202] = 1\n",
    "#flop[310:394, 180:534] = 1\n",
    "plt.imshow(flop)\n",
    "plt.show()\n"
   ]
  },
  {
   "cell_type": "code",
   "execution_count": 40,
   "metadata": {},
   "outputs": [
    {
     "data": {
      "text/plain": [
       "(1276, 884)"
      ]
     },
     "execution_count": 40,
     "metadata": {},
     "output_type": "execute_result"
    }
   ],
   "source": [
    "flop.shape"
   ]
  },
  {
   "cell_type": "code",
   "execution_count": 98,
   "metadata": {},
   "outputs": [
    {
     "data": {
      "image/png": "[encoded data removed]",
      "text/plain": [
       "<Figure size 432x288 with 1 Axes>"
      ]
     },
     "metadata": {
      "needs_background": "light"
     },
     "output_type": "display_data"
    }
   ],
   "source": [
    "matrix = (np.zeros(((groupe.iloc[0, 9]), (groupe.iloc[0, 8]))))\n",
    "for i in range(len(groupe)):\n",
    "     \n",
    "    #matrix = (np.zeros(((groupe.iloc[i, 9]), (groupe.iloc[i, 8]))))\n",
    "    \n",
    "    block = (np.zeros(((groupe.iloc[i, 9]), (groupe.iloc[i, 8]))))\n",
    "    \n",
    "    #block = (np.ones(((groupe.iloc[i, 6]) - (groupe.iloc[i, 4])), ((groupe.iloc[i, 5]) - (groupe.iloc[i, 3]))))\n",
    "    \n",
    "    block[(groupe.iloc[i, 4]):(groupe.iloc[i, 6]), (groupe.iloc[i, 3]):(groupe.iloc[i, 5])] = 1\n",
    "    \n",
    "    matrix = np.add(matrix, block) #matrix + block\n",
    "    \n",
    "plt.imshow(matrix)\n",
    "plt.show()\n",
    "\n",
    "\n",
    "img = Image.fromarray(matrix)\n",
    "img = img.convert('RGB')\n",
    "img.save('./first.png')\n",
    "    "
   ]
  },
  {
   "cell_type": "code",
   "execution_count": 99,
   "metadata": {},
   "outputs": [
    {
     "data": {
      "text/plain": [
       "(880, 1280, 3)"
      ]
     },
     "execution_count": 99,
     "metadata": {},
     "output_type": "execute_result"
    },
    {
     "data": {
      "image/png": "[encoded data removed]",
      "text/plain": [
       "<Figure size 432x288 with 1 Axes>"
      ]
     },
     "metadata": {
      "needs_background": "light"
     },
     "output_type": "display_data"
    }
   ],
   "source": [
    "\n",
    "im = plt.imread('./first.png')\n",
    "im = im*255\n",
    "plt.imshow(im)\n",
    "im.shape"
   ]
  },
  {
   "cell_type": "code",
   "execution_count": 90,
   "metadata": {
    "scrolled": true
   },
   "outputs": [
    {
     "data": {
      "text/plain": [
       "<matplotlib.image.AxesImage at 0x78ebec523f70>"
      ]
     },
     "execution_count": 90,
     "metadata": {},
     "output_type": "execute_result"
    },
    {
     "data": {
      "image/png": "[encoded data removed]",
      "text/plain": [
       "<Figure size 432x288 with 1 Axes>"
      ]
     },
     "metadata": {
      "needs_background": "light"
     },
     "output_type": "display_data"
    }
   ],
   "source": [
    "image = cv2.imread('./first.png')\n",
    "plt.imshow(image)"
   ]
  },
  {
   "cell_type": "code",
   "execution_count": 94,
   "metadata": {},
   "outputs": [
    {
     "data": {
      "text/plain": [
       "array([0., 1.])"
      ]
     },
     "execution_count": 94,
     "metadata": {},
     "output_type": "execute_result"
    }
   ],
   "source": [
    "maaatrix = np.unique(matrix)\n",
    "maaatrix"
   ]
  },
  {
   "cell_type": "code",
   "execution_count": 39,
   "metadata": {},
   "outputs": [
    {
     "data": {
      "text/plain": [
       "array([[0., 0., 0., ..., 0., 0., 0.],\n",
       "       [0., 0., 0., ..., 0., 0., 0.],\n",
       "       [0., 0., 0., ..., 0., 0., 0.],\n",
       "       ...,\n",
       "       [0., 0., 0., ..., 0., 0., 0.],\n",
       "       [0., 0., 0., ..., 0., 0., 0.],\n",
       "       [0., 0., 0., ..., 0., 0., 0.]])"
      ]
     },
     "execution_count": 39,
     "metadata": {},
     "output_type": "execute_result"
    }
   ],
   "source": [
    "np.zeros((1276, 884))"
   ]
  },
  {
   "cell_type": "code",
   "execution_count": null,
   "metadata": {},
   "outputs": [],
   "source": [
    "#Do an overlay for each true image"
   ]
  },
  {
   "cell_type": "code",
   "execution_count": null,
   "metadata": {},
   "outputs": [],
   "source": []
  }
 ],
 "metadata": {
  "kernelspec": {
   "display_name": "Python 3",
   "language": "python",
   "name": "python3"
  },
  "language_info": {
   "codemirror_mode": {
    "name": "ipython",
    "version": 3
   },
   "file_extension": ".py",
   "mimetype": "text/x-python",
   "name": "python",
   "nbconvert_exporter": "python",
   "pygments_lexer": "ipython3",
   "version": "3.8.5"
  }
 },
 "nbformat": 4,
 "nbformat_minor": 4
}
