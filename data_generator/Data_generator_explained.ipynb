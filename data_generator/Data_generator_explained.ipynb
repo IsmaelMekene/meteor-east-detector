{
  "nbformat": 4,
  "nbformat_minor": 0,
  "metadata": {
    "colab": {
      "name": "Data_generator_explained.ipynb",
      "provenance": [],
      "collapsed_sections": []
    },
    "kernelspec": {
      "name": "python3",
      "display_name": "Python 3"
    }
  },
  "cells": [
    {
      "cell_type": "markdown",
      "metadata": {
        "id": "V8BPg8Of5_fo"
      },
      "source": [
        "What is the **role** of the datagenerator:\n",
        "- Generate data on the fly\n",
        "- with the notion of batch\n",
        "- when data can not fit in memory"
      ]
    },
    {
      "cell_type": "markdown",
      "metadata": {
        "id": "_ujAt8Ms6CNz"
      },
      "source": [
        "Be careful you must check that u are using the right package\n",
        "i.e : \n",
        "\n",
        "\n",
        "\n",
        "```\n",
        "from tensorflow import keras\n",
        "```\n",
        "\n"
      ]
    },
    {
      "cell_type": "code",
      "metadata": {
        "id": "3Cj2Rvf36Ctn"
      },
      "source": [
        "import numpy as np\n",
        "#import keras\n",
        "from tensorflow import keras"
      ],
      "execution_count": null,
      "outputs": []
    },
    {
      "cell_type": "markdown",
      "metadata": {
        "id": "vqE6aKNa6WNp"
      },
      "source": [
        "DataGenerator inherits from **keras.utils.Sequence**"
      ]
    },
    {
      "cell_type": "markdown",
      "metadata": {
        "id": "4yHfY6Nb9LRf"
      },
      "source": [
        "### How is the \"datagenerator\" used ?"
      ]
    },
    {
      "cell_type": "code",
      "metadata": {
        "id": "a-iTqzDX7NRY"
      },
      "source": [
        "gen1 = DataGenerator(list_IDS, # may be a list or a dictionary of file ids\n",
        "                     labels, # to each fileId corresponds a label\n",
        "                     batch_size=8, # thse size of the batch ( will retrun batch_size *(image shape))\n",
        "                     dim=(8*204*204), # dimension of the input of the network ~ tensor\n",
        "                     n_channels=1, # n channels of input data (image)\n",
        "                     n_classes=10, # number of classes in a classification pb (not our case : object detection pb)\n",
        "                     shuffle=True # for each epoch, data is shuffled\n",
        "                     )"
      ],
      "execution_count": null,
      "outputs": []
    },
    {
      "cell_type": "code",
      "metadata": {
        "id": "Ykeg1_dU54tZ"
      },
      "source": [
        "class DataGenerator(keras.utils.Sequence):\n",
        "    'Generates data for Keras'\n",
        "\n",
        "\n",
        "    def __init__(self, list_IDs, labels, batch_size=32, dim=(32,32,32), n_channels=1,\n",
        "                 n_classes=10, shuffle=True):\n",
        "        'Initialization'\n",
        "        #  very Scikit-Learn-Like in the implementation\n",
        "        # attribute names  similar to variable names\n",
        "\n",
        "        self.dim = dim # tuple\n",
        "        self.batch_size = batch_size # integer\n",
        "        self.labels = labels # list\n",
        "        self.list_IDs = list_IDs # list\n",
        "        self.n_channels = n_channels # integer\n",
        "        self.n_classes = n_classes # integer\n",
        "\n",
        "        self.shuffle = shuffle # boolean\n",
        "\n",
        "        self.on_epoch_end() # if we want the data to be shuffled (~indexes) we need to call this function at the initialization !\n",
        "\n",
        "        #self.indexes = None ( we could have initialized an empty list of indexes)\n",
        "\n",
        "\n",
        "    def __len__(self):\n",
        "        'Denotes the number of batches per epoch'\n",
        "\n",
        "        return int(np.floor(len(self.list_IDs) / self.batch_size))\n",
        "\n",
        "    def __getitem__(self, index):\n",
        "        'Generate one batch of data'\n",
        "        # Generate indexes of the batch\n",
        "        # index = position we are interested in\n",
        "        # for example index = 2\n",
        "        # with batch_size = 4\n",
        "        # indexes = self.indexes[2*4:(2+1)*4]\n",
        "        # indexes =  self.indexes[8:12]  - which is compatible with a batch of size 4\n",
        "\n",
        "        indexes = self.indexes[index*self.batch_size:(index+1)*self.batch_size]\n",
        "\n",
        "        # Find list of IDs\n",
        "        # In this implementation : we have the list_IDs (original ids)\n",
        "        # We have their index position (shuffled)\n",
        "        # Now, we want to get the IDS corresponding to this shuffled data\n",
        "        # comprehension list\n",
        "\n",
        "        list_IDs_temp = [self.list_IDs[k] for k in indexes]\n",
        "        # equivalent to :\n",
        "\n",
        "        # list_IDs_temp = []\n",
        "        # for k in indexes:\n",
        "        #   list_IDs_temp.append(self.list_IDs[k])\n",
        "\n",
        "        # Generate data\n",
        "        X, y = self.__data_generation(list_IDs_temp)\n",
        "\n",
        "        return X, y\n",
        "\n",
        "    def on_epoch_end(self):\n",
        "        'Updates indexes after each epoch'\n",
        "\n",
        "        # function called @ each epoch end\n",
        "        # list_IDS has been stored in self.list_IDs when initialized\n",
        "        # we are taking all index\n",
        "\n",
        "        # the attribute index ( self.index) did not exist at initialization\n",
        "        self.indexes = np.arange(len(self.list_IDs))\n",
        "\n",
        "        # we shuffle all index (@ each epoch)\n",
        "        if self.shuffle == True: # boolean attribute\n",
        "            np.random.shuffle(self.indexes)\n",
        "\n",
        "    def __data_generation(self, list_IDs_temp):\n",
        "        'Generates data containing batch_size samples' # X : (n_samples, *dim, n_channels)\n",
        "\n",
        "        # Initialization\n",
        "        # for using the input in NN\n",
        "        # ll images should have the same size\n",
        "\n",
        "        # create empty np.empty(batch_size, 32,32, 1)\n",
        "        X = np.empty((self.batch_size, *self.dim, self.n_channels))\n",
        "\n",
        "        # creates an empty array for y (same first dimension as X)\n",
        "        y = np.empty((self.batch_size), dtype=int)\n",
        "\n",
        "        # Generate data\n",
        "\n",
        "        # thanks to enumerate we can get the index position and the value\n",
        "        for i, ID in enumerate(list_IDs_temp):\n",
        "            # Store sample\n",
        "            # reads in the data stored as .npy arrays  those numpy arays are @ the right format !\n",
        "\n",
        "            X[i,] = np.load('data/' + ID + '.npy')\n",
        "\n",
        "            # Store class\n",
        "            y[i] = self.labels[ID]\n",
        "\n",
        "        # the output is transformed into 1-hot encoded vector\n",
        "        return X, keras.utils.to_categorical(y, num_classes=self.n_classes)"
      ],
      "execution_count": null,
      "outputs": []
    },
    {
      "cell_type": "markdown",
      "metadata": {
        "id": "90Mj_RSvEaks"
      },
      "source": [
        "Notes"
      ]
    },
    {
      "cell_type": "code",
      "metadata": {
        "id": "9OAiU9-D5-iX"
      },
      "source": [
        "*Be careful:*\n",
        "# we take the indices of each element in the array\n",
        "# we rearrange the *indices*\n",
        "# we will then use this \n",
        "my_array = np.arange(45)"
      ],
      "execution_count": null,
      "outputs": []
    },
    {
      "cell_type": "markdown",
      "metadata": {
        "id": "PhFaOG-a_hkp"
      },
      "source": [
        "*Be careful :*\n",
        "np.random.shuffle directly modifies the data structure"
      ]
    },
    {
      "cell_type": "code",
      "metadata": {
        "id": "Giv56SdR-hUf"
      },
      "source": [
        "np.random.shuffle(my_array)"
      ],
      "execution_count": null,
      "outputs": []
    },
    {
      "cell_type": "markdown",
      "metadata": {
        "id": "S2ewQY3qAx7g"
      },
      "source": [
        "Why `__len__` ?\n",
        "- to determine the number of batches produced by the datagenerator per epoch\n",
        "in our case it will be the (length of IDS) / batch size\n",
        "rounded to the **lowest integer** (np.floor)"
      ]
    },
    {
      "cell_type": "markdown",
      "metadata": {
        "id": "NZ84tGECA0U7"
      },
      "source": [
        "Why `__get_item__`? if we want to access : \"batch[k]\"\n",
        " - "
      ]
    },
    {
      "cell_type": "markdown",
      "metadata": {
        "id": "EUiWvIi4EVvU"
      },
      "source": [
        "function(*(5,4,3)) = function(5,4,3)"
      ]
    },
    {
      "cell_type": "code",
      "metadata": {
        "colab": {
          "base_uri": "https://localhost:8080/",
          "height": 126
        },
        "id": "6xMWO8t9_gTU",
        "outputId": "40eee41b-7e8b-45c8-84d7-3f05a7809e79"
      },
      "source": [
        "*(5,4,3)"
      ],
      "execution_count": null,
      "outputs": [
        {
          "output_type": "error",
          "ename": "SyntaxError",
          "evalue": "ignored",
          "traceback": [
            "\u001b[0;36m  File \u001b[0;32m\"<ipython-input-6-335ffe697d1f>\"\u001b[0;36m, line \u001b[0;32m1\u001b[0m\n\u001b[0;31m    *(5,4,3)\u001b[0m\n\u001b[0m            ^\u001b[0m\n\u001b[0;31mSyntaxError\u001b[0m\u001b[0;31m:\u001b[0m can't use starred expression here\n"
          ]
        }
      ]
    },
    {
      "cell_type": "code",
      "metadata": {
        "id": "az2_lUvFEdEi"
      },
      "source": [
        "dummy_array = np.arange(10,20,1)"
      ],
      "execution_count": null,
      "outputs": []
    },
    {
      "cell_type": "code",
      "metadata": {
        "colab": {
          "base_uri": "https://localhost:8080/"
        },
        "id": "uKb7ooVKFT3v",
        "outputId": "d02c3db4-7bb8-47dc-f5f5-889c0136f3ad"
      },
      "source": [
        "for i,el in enumerate(dummy_array):\n",
        "  print(i,el)"
      ],
      "execution_count": null,
      "outputs": [
        {
          "output_type": "stream",
          "text": [
            "0 10\n",
            "1 11\n",
            "2 12\n",
            "3 13\n",
            "4 14\n",
            "5 15\n",
            "6 16\n",
            "7 17\n",
            "8 18\n",
            "9 19\n"
          ],
          "name": "stdout"
        }
      ]
    },
    {
      "cell_type": "code",
      "metadata": {
        "id": "pU4FCbzTFmGQ"
      },
      "source": [
        "# n_classes = 4\n",
        "y_test = np.array([0,1,3,1,2,0,1,0,0])"
      ],
      "execution_count": null,
      "outputs": []
    },
    {
      "cell_type": "code",
      "metadata": {
        "colab": {
          "base_uri": "https://localhost:8080/"
        },
        "id": "dyc-8-fTHIYg",
        "outputId": "78638888-4e1c-4373-e507-bfe098382107"
      },
      "source": [
        "keras.utils.to_categorical(y_test, num_classes=4)"
      ],
      "execution_count": null,
      "outputs": [
        {
          "output_type": "execute_result",
          "data": {
            "text/plain": [
              "array([[1., 0., 0., 0.],\n",
              "       [0., 1., 0., 0.],\n",
              "       [0., 0., 0., 1.],\n",
              "       [0., 1., 0., 0.],\n",
              "       [0., 0., 1., 0.],\n",
              "       [1., 0., 0., 0.],\n",
              "       [0., 1., 0., 0.],\n",
              "       [1., 0., 0., 0.],\n",
              "       [1., 0., 0., 0.]], dtype=float32)"
            ]
          },
          "metadata": {
            "tags": []
          },
          "execution_count": 16
        }
      ]
    },
    {
      "cell_type": "code",
      "metadata": {
        "id": "bCVfoPMtHSsu"
      },
      "source": [
        "0,1,2,3"
      ],
      "execution_count": null,
      "outputs": []
    }
  ]
}