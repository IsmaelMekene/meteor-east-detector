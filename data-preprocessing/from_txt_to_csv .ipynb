{
 "cells": [
  {
   "cell_type": "code",
   "execution_count": 3,
   "metadata": {},
   "outputs": [
    {
     "name": "stdout",
     "output_type": "stream",
     "text": [
      "Requirement already satisfied: glob2 in /home/meteor21/.conda/envs/conda_env/lib/python3.9/site-packages (0.7)\n",
      "Collecting numpy\n",
      "  Downloading numpy-1.19.5-cp39-cp39-manylinux2010_x86_64.whl (14.9 MB)\n",
      "\u001b[K     |████████████████████████████████| 14.9 MB 2.7 MB/s eta 0:00:01    |███▌                            | 1.6 MB 3.3 MB/s eta 0:00:04     |████                            | 1.9 MB 3.3 MB/s eta 0:00:04     |████▉                           | 2.2 MB 3.3 MB/s eta 0:00:04\n",
      "\u001b[?25hInstalling collected packages: numpy\n",
      "Successfully installed numpy-1.19.5\n",
      "Collecting pandas\n",
      "  Downloading pandas-1.2.0-cp39-cp39-manylinux1_x86_64.whl (9.7 MB)\n",
      "\u001b[K     |████████████████████████████████| 9.7 MB 12.9 MB/s eta 0:00:0145 kB 4.0 MB/s eta 0:00:03     |███████████▍                    | 3.5 MB 4.0 MB/s eta 0:00:02    | 6.6 MB 4.0 MB/s eta 0:00:01\n",
      "\u001b[?25hRequirement already satisfied: python-dateutil>=2.7.3 in /home/meteor21/.conda/envs/conda_env/lib/python3.9/site-packages (from pandas) (2.8.1)\n",
      "Requirement already satisfied: numpy>=1.16.5 in /home/meteor21/.conda/envs/conda_env/lib/python3.9/site-packages (from pandas) (1.19.5)\n",
      "Requirement already satisfied: six>=1.5 in /home/meteor21/.conda/envs/conda_env/lib/python3.9/site-packages (from python-dateutil>=2.7.3->pandas) (1.15.0)\n",
      "Collecting pytz>=2017.3\n",
      "  Downloading pytz-2020.5-py2.py3-none-any.whl (510 kB)\n",
      "\u001b[K     |████████████████████████████████| 510 kB 7.2 MB/s eta 0:00:01     |███████████████████████████     | 430 kB 7.2 MB/s eta 0:00:01\n",
      "\u001b[?25hInstalling collected packages: pytz, pandas\n",
      "Successfully installed pandas-1.2.0 pytz-2020.5\n",
      "Collecting matplotlib\n",
      "  Downloading matplotlib-3.3.3-cp39-cp39-manylinux1_x86_64.whl (11.6 MB)\n",
      "\u001b[K     |████████████████████████████████| 11.6 MB 3.9 MB/s eta 0:00:01     |████████████████████████████    | 10.1 MB 3.9 MB/s eta 0:00:01\n",
      "\u001b[?25hRequirement already satisfied: pyparsing!=2.0.4,!=2.1.2,!=2.1.6,>=2.0.3 in /home/meteor21/.conda/envs/conda_env/lib/python3.9/site-packages (from matplotlib) (2.4.7)\n",
      "Requirement already satisfied: numpy>=1.15 in /home/meteor21/.conda/envs/conda_env/lib/python3.9/site-packages (from matplotlib) (1.19.5)\n",
      "Requirement already satisfied: python-dateutil>=2.1 in /home/meteor21/.conda/envs/conda_env/lib/python3.9/site-packages (from matplotlib) (2.8.1)\n",
      "Collecting cycler>=0.10\n",
      "  Downloading cycler-0.10.0-py2.py3-none-any.whl (6.5 kB)\n",
      "Requirement already satisfied: six in /home/meteor21/.conda/envs/conda_env/lib/python3.9/site-packages (from cycler>=0.10->matplotlib) (1.15.0)\n",
      "Collecting kiwisolver>=1.0.1\n",
      "  Downloading kiwisolver-1.3.1-cp39-cp39-manylinux1_x86_64.whl (1.2 MB)\n",
      "\u001b[K     |████████████████████████████████| 1.2 MB 9.5 MB/s eta 0:00:01\n",
      "\u001b[?25hCollecting pillow>=6.2.0\n",
      "  Downloading Pillow-8.1.0-cp39-cp39-manylinux1_x86_64.whl (2.2 MB)\n",
      "\u001b[K     |████████████████████████████████| 2.2 MB 15.7 MB/s eta 0:00:01\n",
      "\u001b[?25hInstalling collected packages: pillow, kiwisolver, cycler, matplotlib\n",
      "Successfully installed cycler-0.10.0 kiwisolver-1.3.1 matplotlib-3.3.3 pillow-8.1.0\n",
      "Collecting ast\n",
      "  Downloading AST-0.0.2.tar.gz (19 kB)\n",
      "\u001b[31m    ERROR: Command errored out with exit status 1:\n",
      "     command: /home/meteor21/.conda/envs/conda_env/bin/python -c 'import sys, setuptools, tokenize; sys.argv[0] = '\"'\"'/tmp/pip-install-zz7u2y4j/ast_1e056f82766f43d38a6d5fc25d82c64b/setup.py'\"'\"'; __file__='\"'\"'/tmp/pip-install-zz7u2y4j/ast_1e056f82766f43d38a6d5fc25d82c64b/setup.py'\"'\"';f=getattr(tokenize, '\"'\"'open'\"'\"', open)(__file__);code=f.read().replace('\"'\"'\\r\\n'\"'\"', '\"'\"'\\n'\"'\"');f.close();exec(compile(code, __file__, '\"'\"'exec'\"'\"'))' egg_info --egg-base /tmp/pip-pip-egg-info-cy7ur_pb\n",
      "         cwd: /tmp/pip-install-zz7u2y4j/ast_1e056f82766f43d38a6d5fc25d82c64b/\n",
      "    Complete output (7 lines):\n",
      "    Traceback (most recent call last):\n",
      "      File \"<string>\", line 1, in <module>\n",
      "      File \"/tmp/pip-install-zz7u2y4j/ast_1e056f82766f43d38a6d5fc25d82c64b/setup.py\", line 6, in <module>\n",
      "        README = codecs.open(os.path.join(here, 'AST/README'), encoding='utf8').read()\n",
      "      File \"/home/meteor21/.conda/envs/conda_env/lib/python3.9/codecs.py\", line 905, in open\n",
      "        file = builtins.open(filename, mode, buffering)\n",
      "    FileNotFoundError: [Errno 2] No such file or directory: '/tmp/pip-install-zz7u2y4j/ast_1e056f82766f43d38a6d5fc25d82c64b/AST/README'\n",
      "    ----------------------------------------\u001b[0m\n",
      "\u001b[31mERROR: Command errored out with exit status 1: python setup.py egg_info Check the logs for full command output.\u001b[0m\n",
      "\u001b[31mERROR: Could not find a version that satisfies the requirement PIL\u001b[0m\n",
      "\u001b[31mERROR: No matching distribution found for PIL\u001b[0m\n"
     ]
    }
   ],
   "source": [
    "!pip install glob2\n",
    "!pip install numpy\n",
    "!pip install pandas\n",
    "!pip install matplotlib\n",
    "!pip install ast \n",
    "\n"
   ]
  },
  {
   "cell_type": "code",
   "execution_count": 5,
   "metadata": {},
   "outputs": [
    {
     "name": "stdout",
     "output_type": "stream",
     "text": [
      "Collecting Image\n",
      "  Downloading image-1.5.33.tar.gz (15 kB)\n",
      "Requirement already satisfied: pillow in /home/meteor21/.conda/envs/conda_env/lib/python3.9/site-packages (from Image) (8.1.0)\n",
      "Requirement already satisfied: six in /home/meteor21/.conda/envs/conda_env/lib/python3.9/site-packages (from Image) (1.15.0)\n",
      "Collecting django\n",
      "  Downloading Django-3.1.5-py3-none-any.whl (7.8 MB)\n",
      "\u001b[K     |████████████████████████████████| 7.8 MB 24 kB/s  eta 0:00:01\n",
      "\u001b[?25hRequirement already satisfied: pytz in /home/meteor21/.conda/envs/conda_env/lib/python3.9/site-packages (from django->Image) (2020.5)\n",
      "Collecting asgiref<4,>=3.2.10\n",
      "  Downloading asgiref-3.3.1-py3-none-any.whl (19 kB)\n",
      "Collecting sqlparse>=0.2.2\n",
      "  Downloading sqlparse-0.4.1-py3-none-any.whl (42 kB)\n",
      "\u001b[K     |████████████████████████████████| 42 kB 179 kB/s eta 0:00:01\n",
      "\u001b[?25hBuilding wheels for collected packages: Image\n",
      "  Building wheel for Image (setup.py) ... \u001b[?25ldone\n",
      "\u001b[?25h  Created wheel for Image: filename=image-1.5.33-py2.py3-none-any.whl size=19482 sha256=3227bc2e197c669c6354eff862138373a69efd1a0553d062a6afcdbb862cc327\n",
      "  Stored in directory: /home/meteor21/.cache/pip/wheels/14/4c/7c/d9b5c35a149d3bc8c72c7e92372913ff7dac9c6bd94bd1b8c9\n",
      "Successfully built Image\n",
      "Installing collected packages: sqlparse, asgiref, django, Image\n",
      "Successfully installed Image-1.5.33 asgiref-3.3.1 django-3.1.5 sqlparse-0.4.1\n"
     ]
    }
   ],
   "source": [
    "!pip install Image"
   ]
  },
  {
   "cell_type": "code",
   "execution_count": 7,
   "metadata": {},
   "outputs": [
    {
     "name": "stdout",
     "output_type": "stream",
     "text": [
      "Collecting tqdm\n",
      "  Downloading tqdm-4.56.0-py2.py3-none-any.whl (72 kB)\n",
      "\u001b[K     |████████████████████████████████| 72 kB 192 kB/s eta 0:00:01\n",
      "\u001b[?25hInstalling collected packages: tqdm\n",
      "Successfully installed tqdm-4.56.0\n"
     ]
    }
   ],
   "source": [
    "!pip install tqdm "
   ]
  },
  {
   "cell_type": "code",
   "execution_count": 9,
   "metadata": {},
   "outputs": [],
   "source": [
    "import numpy as np\n",
    "import pandas as pd\n",
    "import matplotlib.pyplot as plt\n",
    "import ast\n",
    "import glob2\n",
    "import PIL\n",
    "from tqdm import tqdm\n",
    "\n",
    "import numpy as np\n",
    "import shutil"
   ]
  },
  {
   "cell_type": "code",
   "execution_count": 10,
   "metadata": {},
   "outputs": [],
   "source": [
    "try:\n",
    "    import Image\n",
    "except ImportError:\n",
    "    from PIL import Image"
   ]
  },
  {
   "cell_type": "code",
   "execution_count": null,
   "metadata": {},
   "outputs": [],
   "source": []
  },
  {
   "cell_type": "code",
   "execution_count": 48,
   "metadata": {},
   "outputs": [
    {
     "data": {
      "text/plain": [
       "['./annotations/gt_img_1.txt', './annotations/gt_img_2.txt']"
      ]
     },
     "execution_count": 48,
     "metadata": {},
     "output_type": "execute_result"
    }
   ],
   "source": [
    "txtfiles = glob2.glob('./annotations/*.txt')\n",
    "txtfiles[:2]"
   ]
  },
  {
   "cell_type": "code",
   "execution_count": null,
   "metadata": {},
   "outputs": [],
   "source": []
  },
  {
   "cell_type": "code",
   "execution_count": 99,
   "metadata": {},
   "outputs": [
    {
     "name": "stderr",
     "output_type": "stream",
     "text": [
      "100%|██████████| 1000/1000 [00:05<00:00, 181.41it/s]\n"
     ]
    }
   ],
   "source": [
    "txtfiles = glob2.glob('./annotations/*.txt')  #create a list of all txt files\n",
    "\n",
    "x1 = []  #create an empty list\n",
    "y1 = []  #create an empty list\n",
    "x2 = []  #create an empty list\n",
    "y2 = []  #create an empty list\n",
    "x3 = []  #create an empty list\n",
    "y3 = []  #create an empty list\n",
    "x4 = []  #create an empty list\n",
    "y4 = []  #create an empty list\n",
    "labels = []  #create an empty list\n",
    "names = []  #create an empty list\n",
    "X1 = []  #create an empty list\n",
    "Y1 = []  #create an empty list\n",
    "X2 = []  #create an empty list\n",
    "Y2 = []  #create an empty list\n",
    "image_width = []  #create an empty list\n",
    "image_height = []  #create an empty list\n",
    "\n",
    "\n",
    "for txt in tqdm(txtfiles):  #iterate over each txt file\n",
    "    \n",
    "    with open(txt, 'r', encoding='utf-8-sig') as f:  #read through a txt file\n",
    "        lines = f.readlines()  #store the read lines into a list\n",
    "        \n",
    "        gt_name = txt.split('/')[2].split('.')[0]  #get this part 'gt_img_1'\n",
    "        name = gt_name.removeprefix('gt_')  #get this part 'img_1'\n",
    "\n",
    "        #print(len(lines))\n",
    "\n",
    "\n",
    "        for thing in lines:    #iterate over each line\n",
    "            \n",
    "            x_up_left = int(thing.split(',')[0])  #store the corresponding coordinate\n",
    "            y_up_left = int(thing.split(',')[1])  #store the corresponding coordinate\n",
    "            x_up_right = int(thing.split(',')[2]) #store the corresponding coordinate\n",
    "            y_up_right = int(thing.split(',')[3])  #store the corresponding coordinate\n",
    "            x_down_right = int(thing.split(',')[4])  #store the corresponding coordinate\n",
    "            y_down_right = int(thing.split(',')[5])  #store the corresponding coordinate\n",
    "            x_down_left = int(thing.split(',')[6])  #store the corresponding coordinate\n",
    "            y_down_left = int(thing.split(',')[7])  #store the corresponding coordinate\n",
    "            \n",
    "            X_up_left = min(x_up_left, x_down_left)  #take the min for the rectangle\n",
    "            Y_up_left = min(y_up_left, y_up_right)  #take the min for the rectangle\n",
    "            X_down_right = max(x_up_right, x_down_right)  #take the max for the rectangle\n",
    "            Y_down_right = max(y_down_right, y_down_left)  #take the max for the rectangle\n",
    "            \n",
    "            image = PIL.Image.open(f'./images/{name}.jpg')  #read coresponding images\n",
    "            width, height = image.size  #store the dimensions\n",
    "            \n",
    "            image_width.append(image.size[0])  #add the width to the image_width list\n",
    "            image_height.append(image.size[1])  #add the height to the image_height list\n",
    "            \n",
    "            \n",
    "            x1.append(int(x_up_left))  #add to the x1 list\n",
    "            y1.append(int(y_up_left))  #add to the y1 list\n",
    "            x2.append(int(x_up_right))  #add to the x2 list\n",
    "            y2.append(int(y_up_right))  #add to the y2 list\n",
    "            x3.append(int(x_down_right))  #add to the x3 list\n",
    "            y3.append(int(y_down_right))  #add to the y3 list\n",
    "            x4.append(int(x_down_left))  #add to the x4 list\n",
    "            y4.append(int(y_down_left))  #add to the y4 list\n",
    "            \n",
    "            X1.append(int(X_up_left))  #add to the X1 list\n",
    "            Y1.append(int(Y_up_left))  #add to the Y1 list\n",
    "            X2.append(int(X_down_right))  #add to the X2 list\n",
    "            Y2.append(int(Y_down_right))  #add to the Y2 list\n",
    "            \n",
    "            labels.append(thing.split(',')[8].replace(\"\\n\", \"\"))  #add to the labes list\n",
    "            names.append(name)\n",
    "\n",
    "        #x1 = list(map(int, x1))  #transform to a list of int\n",
    "        #y1 = list(map(int, y1))  #transform to a list of int\n",
    "        #x2 = list(map(int, x2))  #transform to a list of int\n",
    "        #y2 = list(map(int, y2))  #transform to a list of int\n",
    "        #x3 = list(map(int, x3))  #transform to a list of int\n",
    "        #y3 = list(map(int, y3))  #transform to a list of int\n",
    "        #x4 = list(map(int, x4))  #transform to a list of int\n",
    "        #y4 = list(map(int, y4))  #transform to a list of int\n",
    "        \n",
    "        \n",
    "        \n",
    "#create a dataframe containig the needed lists\n",
    "df = pd.DataFrame(list(zip(names, labels, X1, Y1, X2, Y2, image_width, image_height)), \n",
    "               columns =['imageName', 'bbox', 'X1', 'Y1', 'X2', 'Y2', 'image_width', 'image_height']) \n"
   ]
  },
  {
   "cell_type": "code",
   "execution_count": 102,
   "metadata": {},
   "outputs": [
    {
     "data": {
      "text/html": [
       "<div>\n",
       "<style scoped>\n",
       "    .dataframe tbody tr th:only-of-type {\n",
       "        vertical-align: middle;\n",
       "    }\n",
       "\n",
       "    .dataframe tbody tr th {\n",
       "        vertical-align: top;\n",
       "    }\n",
       "\n",
       "    .dataframe thead th {\n",
       "        text-align: right;\n",
       "    }\n",
       "</style>\n",
       "<table border=\"1\" class=\"dataframe\">\n",
       "  <thead>\n",
       "    <tr style=\"text-align: right;\">\n",
       "      <th></th>\n",
       "      <th>imageName</th>\n",
       "      <th>bbox</th>\n",
       "      <th>X1</th>\n",
       "      <th>Y1</th>\n",
       "      <th>X2</th>\n",
       "      <th>Y2</th>\n",
       "      <th>image_width</th>\n",
       "      <th>image_height</th>\n",
       "    </tr>\n",
       "  </thead>\n",
       "  <tbody>\n",
       "    <tr>\n",
       "      <th>0</th>\n",
       "      <td>img_1</td>\n",
       "      <td>Genaxis Theatre</td>\n",
       "      <td>377</td>\n",
       "      <td>117</td>\n",
       "      <td>465</td>\n",
       "      <td>130</td>\n",
       "      <td>1280</td>\n",
       "      <td>720</td>\n",
       "    </tr>\n",
       "    <tr>\n",
       "      <th>1</th>\n",
       "      <td>img_1</td>\n",
       "      <td>[06]</td>\n",
       "      <td>493</td>\n",
       "      <td>115</td>\n",
       "      <td>519</td>\n",
       "      <td>131</td>\n",
       "      <td>1280</td>\n",
       "      <td>720</td>\n",
       "    </tr>\n",
       "    <tr>\n",
       "      <th>2</th>\n",
       "      <td>img_1</td>\n",
       "      <td>###</td>\n",
       "      <td>374</td>\n",
       "      <td>155</td>\n",
       "      <td>409</td>\n",
       "      <td>170</td>\n",
       "      <td>1280</td>\n",
       "      <td>720</td>\n",
       "    </tr>\n",
       "    <tr>\n",
       "      <th>3</th>\n",
       "      <td>img_1</td>\n",
       "      <td>62-03</td>\n",
       "      <td>492</td>\n",
       "      <td>151</td>\n",
       "      <td>551</td>\n",
       "      <td>170</td>\n",
       "      <td>1280</td>\n",
       "      <td>720</td>\n",
       "    </tr>\n",
       "    <tr>\n",
       "      <th>4</th>\n",
       "      <td>img_1</td>\n",
       "      <td>Carpark</td>\n",
       "      <td>376</td>\n",
       "      <td>198</td>\n",
       "      <td>422</td>\n",
       "      <td>212</td>\n",
       "      <td>1280</td>\n",
       "      <td>720</td>\n",
       "    </tr>\n",
       "    <tr>\n",
       "      <th>...</th>\n",
       "      <td>...</td>\n",
       "      <td>...</td>\n",
       "      <td>...</td>\n",
       "      <td>...</td>\n",
       "      <td>...</td>\n",
       "      <td>...</td>\n",
       "      <td>...</td>\n",
       "      <td>...</td>\n",
       "    </tr>\n",
       "    <tr>\n",
       "      <th>11881</th>\n",
       "      <td>img_999</td>\n",
       "      <td>###</td>\n",
       "      <td>318</td>\n",
       "      <td>465</td>\n",
       "      <td>387</td>\n",
       "      <td>526</td>\n",
       "      <td>1280</td>\n",
       "      <td>720</td>\n",
       "    </tr>\n",
       "    <tr>\n",
       "      <th>11882</th>\n",
       "      <td>img_1000</td>\n",
       "      <td>###</td>\n",
       "      <td>486</td>\n",
       "      <td>211</td>\n",
       "      <td>558</td>\n",
       "      <td>248</td>\n",
       "      <td>1280</td>\n",
       "      <td>720</td>\n",
       "    </tr>\n",
       "    <tr>\n",
       "      <th>11883</th>\n",
       "      <td>img_1000</td>\n",
       "      <td>###</td>\n",
       "      <td>0</td>\n",
       "      <td>354</td>\n",
       "      <td>91</td>\n",
       "      <td>401</td>\n",
       "      <td>1280</td>\n",
       "      <td>720</td>\n",
       "    </tr>\n",
       "    <tr>\n",
       "      <th>11884</th>\n",
       "      <td>img_1000</td>\n",
       "      <td>###</td>\n",
       "      <td>48</td>\n",
       "      <td>393</td>\n",
       "      <td>64</td>\n",
       "      <td>411</td>\n",
       "      <td>1280</td>\n",
       "      <td>720</td>\n",
       "    </tr>\n",
       "    <tr>\n",
       "      <th>11885</th>\n",
       "      <td>img_1000</td>\n",
       "      <td>###</td>\n",
       "      <td>264</td>\n",
       "      <td>226</td>\n",
       "      <td>295</td>\n",
       "      <td>255</td>\n",
       "      <td>1280</td>\n",
       "      <td>720</td>\n",
       "    </tr>\n",
       "  </tbody>\n",
       "</table>\n",
       "<p>11886 rows × 8 columns</p>\n",
       "</div>"
      ],
      "text/plain": [
       "      imageName             bbox   X1   Y1   X2   Y2  image_width  \\\n",
       "0         img_1  Genaxis Theatre  377  117  465  130         1280   \n",
       "1         img_1             [06]  493  115  519  131         1280   \n",
       "2         img_1              ###  374  155  409  170         1280   \n",
       "3         img_1            62-03  492  151  551  170         1280   \n",
       "4         img_1          Carpark  376  198  422  212         1280   \n",
       "...         ...              ...  ...  ...  ...  ...          ...   \n",
       "11881   img_999              ###  318  465  387  526         1280   \n",
       "11882  img_1000              ###  486  211  558  248         1280   \n",
       "11883  img_1000              ###    0  354   91  401         1280   \n",
       "11884  img_1000              ###   48  393   64  411         1280   \n",
       "11885  img_1000              ###  264  226  295  255         1280   \n",
       "\n",
       "       image_height  \n",
       "0               720  \n",
       "1               720  \n",
       "2               720  \n",
       "3               720  \n",
       "4               720  \n",
       "...             ...  \n",
       "11881           720  \n",
       "11882           720  \n",
       "11883           720  \n",
       "11884           720  \n",
       "11885           720  \n",
       "\n",
       "[11886 rows x 8 columns]"
      ]
     },
     "execution_count": 102,
     "metadata": {},
     "output_type": "execute_result"
    }
   ],
   "source": [
    "df  #view dataframe"
   ]
  },
  {
   "cell_type": "code",
   "execution_count": 101,
   "metadata": {},
   "outputs": [],
   "source": [
    "df.to_csv(r'clean_from_txt_to_csv.csv', index = False) #save to csv"
   ]
  },
  {
   "cell_type": "code",
   "execution_count": 104,
   "metadata": {},
   "outputs": [
    {
     "name": "stderr",
     "output_type": "stream",
     "text": [
      "100%|██████████| 1000/1000 [02:58<00:00,  5.61it/s]\n"
     ]
    }
   ],
   "source": [
    "les_noms = df['imageName'].unique().tolist()\n",
    "\n",
    "for noms in tqdm(les_noms):\n",
    "    #firstimage = (dataset['imageName'] == noms)\n",
    "    groupe_of_first_image = df[df['imageName'] == noms]\n",
    "    groupe = groupe_of_first_image.reset_index(drop=True)\n",
    "    \n",
    "    matrix = (np.zeros(((groupe.iloc[0, 7]), (groupe.iloc[0, 6]))))\n",
    "    for i in range(len(groupe)):\n",
    "\n",
    "        #matrix = (np.zeros(((groupe.iloc[i, 9]), (groupe.iloc[i, 8]))))\n",
    "\n",
    "        block = (np.zeros(((groupe.iloc[i, 7]), (groupe.iloc[i, 6]))))\n",
    "\n",
    "        #block = (np.ones(((groupe.iloc[i, 6]) - (groupe.iloc[i, 4])), ((groupe.iloc[i, 5]) - (groupe.iloc[i, 3]))))\n",
    "\n",
    "        block[(groupe.iloc[i, 3]):(groupe.iloc[i, 5]), (groupe.iloc[i, 2]):(groupe.iloc[i, 4])] = 1\n",
    "\n",
    "        matrix = np.add(matrix, block) #matrix + block\n",
    "\n",
    "    #plt.imshow(matrix)\n",
    "    #plt.show()\n",
    "    img = Image.fromarray(matrix)\n",
    "    img = img.convert('RGB')\n",
    "    img.save(f'./thousand_masks/{noms}.jpg')"
   ]
  },
  {
   "cell_type": "code",
   "execution_count": null,
   "metadata": {},
   "outputs": [],
   "source": []
  },
  {
   "cell_type": "code",
   "execution_count": null,
   "metadata": {},
   "outputs": [],
   "source": []
  },
  {
   "cell_type": "code",
   "execution_count": 116,
   "metadata": {},
   "outputs": [],
   "source": [
    "l_arr = np.array([[[0, 0],\n",
    "    [1, 0],\n",
    "    [2, 0],\n",
    "    [3, 0]],\n",
    "\n",
    "   [[0, 1],\n",
    "    [1, 1],\n",
    "    [2, 1],\n",
    "    [3, 1]],\n",
    "\n",
    "   [[0, 2],\n",
    "    [1, 2],\n",
    "    [2, 2],\n",
    "    [3, 2]],\n",
    "\n",
    "   [[0, 3],\n",
    "    [1, 3],\n",
    "    [2, 3],\n",
    "    [3, 3]],\n",
    "\n",
    "   [[0, 4],\n",
    "    [1, 4],\n",
    "    [2, 4],\n",
    "    [3, 4]]])"
   ]
  },
  {
   "cell_type": "code",
   "execution_count": 124,
   "metadata": {},
   "outputs": [
    {
     "data": {
      "text/plain": [
       "array([[0., 0.],\n",
       "       [0., 0.],\n",
       "       [0., 0.],\n",
       "       [0., 0.]])"
      ]
     },
     "execution_count": 124,
     "metadata": {},
     "output_type": "execute_result"
    }
   ],
   "source": [
    "a = np.zeros((4, 2))\n",
    "a"
   ]
  },
  {
   "cell_type": "code",
   "execution_count": 139,
   "metadata": {},
   "outputs": [
    {
     "data": {
      "text/plain": [
       "array([[0., 0.],\n",
       "       [0., 0.],\n",
       "       [0., 0.],\n",
       "       [0., 0.]])"
      ]
     },
     "execution_count": 139,
     "metadata": {},
     "output_type": "execute_result"
    }
   ],
   "source": [
    "a[0:2, 0:2] =0\n",
    "a"
   ]
  },
  {
   "cell_type": "code",
   "execution_count": 138,
   "metadata": {},
   "outputs": [],
   "source": [
    "zee = np.ones((2,2))"
   ]
  },
  {
   "cell_type": "code",
   "execution_count": 140,
   "metadata": {},
   "outputs": [],
   "source": [
    "a[0:2, 0:2] = zee"
   ]
  },
  {
   "cell_type": "code",
   "execution_count": 141,
   "metadata": {},
   "outputs": [
    {
     "data": {
      "text/plain": [
       "array([[1., 1.],\n",
       "       [1., 1.],\n",
       "       [0., 0.],\n",
       "       [0., 0.]])"
      ]
     },
     "execution_count": 141,
     "metadata": {},
     "output_type": "execute_result"
    }
   ],
   "source": [
    "a"
   ]
  },
  {
   "cell_type": "code",
   "execution_count": 162,
   "metadata": {},
   "outputs": [
    {
     "data": {
      "text/plain": [
       "1.0"
      ]
     },
     "execution_count": 162,
     "metadata": {},
     "output_type": "execute_result"
    }
   ],
   "source": [
    "a[0,1]"
   ]
  },
  {
   "cell_type": "code",
   "execution_count": 163,
   "metadata": {},
   "outputs": [
    {
     "data": {
      "text/plain": [
       "0.0"
      ]
     },
     "execution_count": 163,
     "metadata": {},
     "output_type": "execute_result"
    }
   ],
   "source": [
    "np.linalg.norm(a[0,1] - a[0,0])#, axis=(1))"
   ]
  },
  {
   "cell_type": "code",
   "execution_count": 161,
   "metadata": {},
   "outputs": [
    {
     "data": {
      "text/plain": [
       "array([1.41421356, 1.41421356])"
      ]
     },
     "execution_count": 161,
     "metadata": {},
     "output_type": "execute_result"
    }
   ],
   "source": [
    "np.linalg.norm(a - a[0,0], axis=(0))"
   ]
  },
  {
   "cell_type": "code",
   "execution_count": 168,
   "metadata": {},
   "outputs": [
    {
     "data": {
      "text/plain": [
       "array([[[ 0,  1,  2],\n",
       "        [ 3,  4,  5],\n",
       "        [ 6,  7,  8]],\n",
       "\n",
       "       [[ 9, 10, 11],\n",
       "        [12, 13, 14],\n",
       "        [15, 16, 17]],\n",
       "\n",
       "       [[18, 19, 20],\n",
       "        [21, 22, 23],\n",
       "        [24, 25, 26]]])"
      ]
     },
     "execution_count": 168,
     "metadata": {},
     "output_type": "execute_result"
    }
   ],
   "source": [
    "m = np.arange(27).reshape(3,3,3)\n",
    "m"
   ]
  },
  {
   "cell_type": "code",
   "execution_count": 185,
   "metadata": {},
   "outputs": [
    {
     "data": {
      "text/plain": [
       "array([[0., 0., 0., 0., 0.],\n",
       "       [0., 0., 0., 0., 0.],\n",
       "       [0., 0., 0., 0., 0.],\n",
       "       [0., 0., 0., 0., 0.],\n",
       "       [0., 0., 0., 0., 0.]])"
      ]
     },
     "execution_count": 185,
     "metadata": {},
     "output_type": "execute_result"
    }
   ],
   "source": [
    "nnn = np.zeros((5,5))\n",
    "nnn"
   ]
  },
  {
   "cell_type": "code",
   "execution_count": 186,
   "metadata": {},
   "outputs": [
    {
     "data": {
      "text/plain": [
       "array([0., 0., 0., 0., 0.])"
      ]
     },
     "execution_count": 186,
     "metadata": {},
     "output_type": "execute_result"
    }
   ],
   "source": [
    "nnn[:,0]"
   ]
  },
  {
   "cell_type": "code",
   "execution_count": 187,
   "metadata": {},
   "outputs": [
    {
     "data": {
      "text/plain": [
       "array([0., 0., 0., 0., 0.])"
      ]
     },
     "execution_count": 187,
     "metadata": {},
     "output_type": "execute_result"
    }
   ],
   "source": [
    "nnn[2,:]"
   ]
  },
  {
   "cell_type": "code",
   "execution_count": 190,
   "metadata": {},
   "outputs": [
    {
     "data": {
      "text/plain": [
       "array([[1., 1., 1.],\n",
       "       [1., 1., 1.],\n",
       "       [1., 1., 1.]])"
      ]
     },
     "execution_count": 190,
     "metadata": {},
     "output_type": "execute_result"
    }
   ],
   "source": [
    "ayy = nnn[1:4, 1:4] + 1\n",
    "ayy"
   ]
  },
  {
   "cell_type": "code",
   "execution_count": 191,
   "metadata": {},
   "outputs": [
    {
     "data": {
      "text/plain": [
       "array([[0., 0., 0., 0., 0.],\n",
       "       [0., 1., 1., 1., 0.],\n",
       "       [0., 1., 1., 1., 0.],\n",
       "       [0., 1., 1., 1., 0.],\n",
       "       [0., 0., 0., 0., 0.]])"
      ]
     },
     "execution_count": 191,
     "metadata": {},
     "output_type": "execute_result"
    }
   ],
   "source": [
    "nnn[1:4, 1:4] = ayy\n",
    "nnn"
   ]
  },
  {
   "cell_type": "code",
   "execution_count": 201,
   "metadata": {},
   "outputs": [
    {
     "data": {
      "text/plain": [
       "array([[0, 1, 2, 3, 4],\n",
       "       [0, 1, 2, 3, 4],\n",
       "       [0, 1, 2, 3, 4],\n",
       "       [0, 1, 2, 3, 4],\n",
       "       [0, 1, 2, 3, 4]])"
      ]
     },
     "execution_count": 201,
     "metadata": {},
     "output_type": "execute_result"
    }
   ],
   "source": [
    "mmm = np.indices((5, 5))[1]\n",
    "mmm"
   ]
  },
  {
   "cell_type": "code",
   "execution_count": 207,
   "metadata": {},
   "outputs": [
    {
     "data": {
      "text/plain": [
       "array([[0., 0., 0., 0., 0.],\n",
       "       [0., 1., 2., 3., 0.],\n",
       "       [0., 1., 2., 3., 0.],\n",
       "       [0., 1., 2., 3., 0.],\n",
       "       [0., 0., 0., 0., 0.]])"
      ]
     },
     "execution_count": 207,
     "metadata": {},
     "output_type": "execute_result"
    }
   ],
   "source": [
    "yyy = np.multiply(nnn,mmm)\n",
    "yyy"
   ]
  },
  {
   "cell_type": "code",
   "execution_count": 204,
   "metadata": {},
   "outputs": [
    {
     "data": {
      "text/plain": [
       "array([[0, 0, 0, 0, 0],\n",
       "       [1, 1, 1, 1, 1],\n",
       "       [2, 2, 2, 2, 2],\n",
       "       [3, 3, 3, 3, 3],\n",
       "       [4, 4, 4, 4, 4]])"
      ]
     },
     "execution_count": 204,
     "metadata": {},
     "output_type": "execute_result"
    }
   ],
   "source": [
    "lll = np.indices((5, 5))[0]\n",
    "lll"
   ]
  },
  {
   "cell_type": "code",
   "execution_count": 208,
   "metadata": {},
   "outputs": [
    {
     "data": {
      "text/plain": [
       "array([[0., 0., 0., 0., 0.],\n",
       "       [0., 1., 1., 1., 0.],\n",
       "       [0., 2., 2., 2., 0.],\n",
       "       [0., 3., 3., 3., 0.],\n",
       "       [0., 0., 0., 0., 0.]])"
      ]
     },
     "execution_count": 208,
     "metadata": {},
     "output_type": "execute_result"
    }
   ],
   "source": [
    "xxx = np.multiply(nnn,lll)\n",
    "xxx"
   ]
  },
  {
   "cell_type": "code",
   "execution_count": 210,
   "metadata": {},
   "outputs": [
    {
     "data": {
      "text/plain": [
       "1.0"
      ]
     },
     "execution_count": 210,
     "metadata": {},
     "output_type": "execute_result"
    }
   ],
   "source": [
    "nnn[1,1]"
   ]
  },
  {
   "cell_type": "code",
   "execution_count": 212,
   "metadata": {},
   "outputs": [
    {
     "data": {
      "text/plain": [
       "array([[-4., -4., -4., -4., -4.],\n",
       "       [-4.,  0.,  2.,  4., -4.],\n",
       "       [-4.,  2.,  4.,  6., -4.],\n",
       "       [-4.,  4.,  6.,  8., -4.],\n",
       "       [-4., -4., -4., -4., -4.]])"
      ]
     },
     "execution_count": 212,
     "metadata": {},
     "output_type": "execute_result"
    }
   ],
   "source": [
    "dist = (xxx - 1)*2 + (yyy - 1)*2\n",
    "dist"
   ]
  },
  {
   "cell_type": "code",
   "execution_count": 214,
   "metadata": {},
   "outputs": [
    {
     "data": {
      "text/plain": [
       "array([[-0., -0., -0., -0., -0.],\n",
       "       [-0.,  0.,  2.,  4., -0.],\n",
       "       [-0.,  2.,  4.,  6., -0.],\n",
       "       [-0.,  4.,  6.,  8., -0.],\n",
       "       [-0., -0., -0., -0., -0.]])"
      ]
     },
     "execution_count": 214,
     "metadata": {},
     "output_type": "execute_result"
    }
   ],
   "source": [
    "realdist = np.multiply(dist,nnn)\n",
    "realdist"
   ]
  },
  {
   "cell_type": "code",
   "execution_count": 216,
   "metadata": {},
   "outputs": [],
   "source": [
    "realdistpositiv = np.abs(realdist)"
   ]
  },
  {
   "cell_type": "code",
   "execution_count": 218,
   "metadata": {},
   "outputs": [
    {
     "data": {
      "text/plain": [
       "array([[0.        , 0.        , 0.        , 0.        , 0.        ],\n",
       "       [0.        , 0.        , 1.41421356, 2.        , 0.        ],\n",
       "       [0.        , 1.41421356, 2.        , 2.44948974, 0.        ],\n",
       "       [0.        , 2.        , 2.44948974, 2.82842712, 0.        ],\n",
       "       [0.        , 0.        , 0.        , 0.        , 0.        ]])"
      ]
     },
     "execution_count": 218,
     "metadata": {},
     "output_type": "execute_result"
    }
   ],
   "source": [
    "truedist = np.sqrt(realdistpositiv)\n",
    "truedist"
   ]
  },
  {
   "cell_type": "code",
   "execution_count": 241,
   "metadata": {},
   "outputs": [
    {
     "data": {
      "text/html": [
       "<div>\n",
       "<style scoped>\n",
       "    .dataframe tbody tr th:only-of-type {\n",
       "        vertical-align: middle;\n",
       "    }\n",
       "\n",
       "    .dataframe tbody tr th {\n",
       "        vertical-align: top;\n",
       "    }\n",
       "\n",
       "    .dataframe thead th {\n",
       "        text-align: right;\n",
       "    }\n",
       "</style>\n",
       "<table border=\"1\" class=\"dataframe\">\n",
       "  <thead>\n",
       "    <tr style=\"text-align: right;\">\n",
       "      <th></th>\n",
       "      <th>imageName</th>\n",
       "      <th>bbox</th>\n",
       "      <th>X1</th>\n",
       "      <th>Y1</th>\n",
       "      <th>X2</th>\n",
       "      <th>Y2</th>\n",
       "      <th>image_width</th>\n",
       "      <th>image_height</th>\n",
       "    </tr>\n",
       "  </thead>\n",
       "  <tbody>\n",
       "    <tr>\n",
       "      <th>0</th>\n",
       "      <td>img_1</td>\n",
       "      <td>Genaxis Theatre</td>\n",
       "      <td>377</td>\n",
       "      <td>117</td>\n",
       "      <td>465</td>\n",
       "      <td>130</td>\n",
       "      <td>1280</td>\n",
       "      <td>720</td>\n",
       "    </tr>\n",
       "    <tr>\n",
       "      <th>1</th>\n",
       "      <td>img_1</td>\n",
       "      <td>[06]</td>\n",
       "      <td>493</td>\n",
       "      <td>115</td>\n",
       "      <td>519</td>\n",
       "      <td>131</td>\n",
       "      <td>1280</td>\n",
       "      <td>720</td>\n",
       "    </tr>\n",
       "    <tr>\n",
       "      <th>2</th>\n",
       "      <td>img_1</td>\n",
       "      <td>###</td>\n",
       "      <td>374</td>\n",
       "      <td>155</td>\n",
       "      <td>409</td>\n",
       "      <td>170</td>\n",
       "      <td>1280</td>\n",
       "      <td>720</td>\n",
       "    </tr>\n",
       "    <tr>\n",
       "      <th>3</th>\n",
       "      <td>img_1</td>\n",
       "      <td>62-03</td>\n",
       "      <td>492</td>\n",
       "      <td>151</td>\n",
       "      <td>551</td>\n",
       "      <td>170</td>\n",
       "      <td>1280</td>\n",
       "      <td>720</td>\n",
       "    </tr>\n",
       "    <tr>\n",
       "      <th>4</th>\n",
       "      <td>img_1</td>\n",
       "      <td>Carpark</td>\n",
       "      <td>376</td>\n",
       "      <td>198</td>\n",
       "      <td>422</td>\n",
       "      <td>212</td>\n",
       "      <td>1280</td>\n",
       "      <td>720</td>\n",
       "    </tr>\n",
       "    <tr>\n",
       "      <th>5</th>\n",
       "      <td>img_1</td>\n",
       "      <td>###</td>\n",
       "      <td>494</td>\n",
       "      <td>189</td>\n",
       "      <td>539</td>\n",
       "      <td>206</td>\n",
       "      <td>1280</td>\n",
       "      <td>720</td>\n",
       "    </tr>\n",
       "    <tr>\n",
       "      <th>6</th>\n",
       "      <td>img_1</td>\n",
       "      <td>###</td>\n",
       "      <td>372</td>\n",
       "      <td>0</td>\n",
       "      <td>494</td>\n",
       "      <td>86</td>\n",
       "      <td>1280</td>\n",
       "      <td>720</td>\n",
       "    </tr>\n",
       "  </tbody>\n",
       "</table>\n",
       "</div>"
      ],
      "text/plain": [
       "  imageName             bbox   X1   Y1   X2   Y2  image_width  image_height\n",
       "0     img_1  Genaxis Theatre  377  117  465  130         1280           720\n",
       "1     img_1             [06]  493  115  519  131         1280           720\n",
       "2     img_1              ###  374  155  409  170         1280           720\n",
       "3     img_1            62-03  492  151  551  170         1280           720\n",
       "4     img_1          Carpark  376  198  422  212         1280           720\n",
       "5     img_1              ###  494  189  539  206         1280           720\n",
       "6     img_1              ###  372    0  494   86         1280           720"
      ]
     },
     "execution_count": 241,
     "metadata": {},
     "output_type": "execute_result"
    }
   ],
   "source": [
    "\n",
    "df[df['imageName'] =='img_1']"
   ]
  },
  {
   "cell_type": "code",
   "execution_count": 255,
   "metadata": {},
   "outputs": [
    {
     "name": "stderr",
     "output_type": "stream",
     "text": [
      " 97%|█████████▋| 974/1000 [32:29<00:52,  2.00s/it]  \n"
     ]
    },
    {
     "ename": "OSError",
     "evalue": "Not enough free space to write 29491200 bytes",
     "output_type": "error",
     "traceback": [
      "\u001b[0;31m\u001b[0m",
      "\u001b[0;31mOSError\u001b[0mTraceback (most recent call last)",
      "\u001b[0;32m<ipython-input-255-1f72316fd998>\u001b[0m in \u001b[0;36m<module>\u001b[0;34m\u001b[0m\n\u001b[1;32m     82\u001b[0m \u001b[0;34m\u001b[0m\u001b[0m\n\u001b[1;32m     83\u001b[0m \u001b[0;34m\u001b[0m\u001b[0m\n\u001b[0;32m---> 84\u001b[0;31m     \u001b[0mnp\u001b[0m\u001b[0;34m.\u001b[0m\u001b[0msave\u001b[0m\u001b[0;34m(\u001b[0m\u001b[0;34mf'./thousand_distancegeo/{noms}.npy'\u001b[0m\u001b[0;34m,\u001b[0m\u001b[0mgloc\u001b[0m\u001b[0;34m)\u001b[0m\u001b[0;34m\u001b[0m\u001b[0;34m\u001b[0m\u001b[0m\n\u001b[0m\u001b[1;32m     85\u001b[0m \u001b[0;34m\u001b[0m\u001b[0m\n\u001b[1;32m     86\u001b[0m \u001b[0;34m\u001b[0m\u001b[0m\n",
      "\u001b[0;32m<__array_function__ internals>\u001b[0m in \u001b[0;36msave\u001b[0;34m(*args, **kwargs)\u001b[0m\n",
      "\u001b[0;32m~/.conda/envs/conda_env/lib/python3.9/site-packages/numpy/lib/npyio.py\u001b[0m in \u001b[0;36msave\u001b[0;34m(file, arr, allow_pickle, fix_imports)\u001b[0m\n\u001b[1;32m    526\u001b[0m     \u001b[0;32mwith\u001b[0m \u001b[0mfile_ctx\u001b[0m \u001b[0;32mas\u001b[0m \u001b[0mfid\u001b[0m\u001b[0;34m:\u001b[0m\u001b[0;34m\u001b[0m\u001b[0;34m\u001b[0m\u001b[0m\n\u001b[1;32m    527\u001b[0m         \u001b[0marr\u001b[0m \u001b[0;34m=\u001b[0m \u001b[0mnp\u001b[0m\u001b[0;34m.\u001b[0m\u001b[0masanyarray\u001b[0m\u001b[0;34m(\u001b[0m\u001b[0marr\u001b[0m\u001b[0;34m)\u001b[0m\u001b[0;34m\u001b[0m\u001b[0;34m\u001b[0m\u001b[0m\n\u001b[0;32m--> 528\u001b[0;31m         format.write_array(fid, arr, allow_pickle=allow_pickle,\n\u001b[0m\u001b[1;32m    529\u001b[0m                            pickle_kwargs=dict(fix_imports=fix_imports))\n\u001b[1;32m    530\u001b[0m \u001b[0;34m\u001b[0m\u001b[0m\n",
      "\u001b[0;32m~/.conda/envs/conda_env/lib/python3.9/site-packages/numpy/lib/format.py\u001b[0m in \u001b[0;36mwrite_array\u001b[0;34m(fp, array, version, allow_pickle, pickle_kwargs)\u001b[0m\n\u001b[1;32m    673\u001b[0m     \u001b[0;32melse\u001b[0m\u001b[0;34m:\u001b[0m\u001b[0;34m\u001b[0m\u001b[0;34m\u001b[0m\u001b[0m\n\u001b[1;32m    674\u001b[0m         \u001b[0;32mif\u001b[0m \u001b[0misfileobj\u001b[0m\u001b[0;34m(\u001b[0m\u001b[0mfp\u001b[0m\u001b[0;34m)\u001b[0m\u001b[0;34m:\u001b[0m\u001b[0;34m\u001b[0m\u001b[0;34m\u001b[0m\u001b[0m\n\u001b[0;32m--> 675\u001b[0;31m             \u001b[0marray\u001b[0m\u001b[0;34m.\u001b[0m\u001b[0mtofile\u001b[0m\u001b[0;34m(\u001b[0m\u001b[0mfp\u001b[0m\u001b[0;34m)\u001b[0m\u001b[0;34m\u001b[0m\u001b[0;34m\u001b[0m\u001b[0m\n\u001b[0m\u001b[1;32m    676\u001b[0m         \u001b[0;32melse\u001b[0m\u001b[0;34m:\u001b[0m\u001b[0;34m\u001b[0m\u001b[0;34m\u001b[0m\u001b[0m\n\u001b[1;32m    677\u001b[0m             for chunk in numpy.nditer(\n",
      "\u001b[0;31mOSError\u001b[0m: Not enough free space to write 29491200 bytes"
     ]
    }
   ],
   "source": [
    "les_noms = df['imageName'].unique().tolist()\n",
    "\n",
    "for noms in tqdm(les_noms):\n",
    "\n",
    "    groupe_of_first_image = df[df['imageName'] == noms]  #enumerate only the first image\n",
    "    groupe = groupe_of_first_image.reset_index(drop=True)  #drop index\n",
    "\n",
    "\n",
    "    gloc = (np.zeros((4, (groupe.iloc[0, 7]), (groupe.iloc[0, 6])))) #the big tensor of dim(4,m,n)\n",
    "    flop = (np.zeros(((groupe.iloc[0, 7]), (groupe.iloc[0, 6]))))  #large matrix of dim(m,n)\n",
    "    width = (groupe.iloc[0, 6])  #store the width\n",
    "    height = (groupe.iloc[0, 7])  #store the height\n",
    "    x_indices = np.indices((height, width))[0] #matrix of x indices\n",
    "    y_indices = np.indices((height, width))[1] #matrix of y indices\n",
    "\n",
    "\n",
    "    for i in range(len(groupe)):  #iterate over the length of the 'group'\n",
    "\n",
    "\n",
    "\n",
    "        block = (np.zeros(((groupe.iloc[i, 7]), (groupe.iloc[i, 6]))))   #large matrix of dim(m,n)\n",
    "\n",
    "\n",
    "\n",
    "        block[(groupe.iloc[i, 3]):(groupe.iloc[i, 5]), (groupe.iloc[i, 2]):(groupe.iloc[i, 4])] = 1  #fill the block w/ 1s\n",
    "\n",
    "        flop = np.add(flop, block) #matrix + block\n",
    "\n",
    "        x_up_left = (groupe.iloc[i, 2])  #x of upleft corner of bbox\n",
    "        y_up_left = (groupe.iloc[i, 3])  #y of upleft corner of bbox\n",
    "\n",
    "\n",
    "\n",
    "        x_up_right = (groupe.iloc[i, 4])  #x of upright corner of bbox\n",
    "        y_up_right = (groupe.iloc[i, 3])  #y of upright corner of bbox\n",
    "\n",
    "\n",
    "\n",
    "        x_down_right = (groupe.iloc[i, 4])  #x of downright corner of bbox \n",
    "        y_down_right = (groupe.iloc[i, 5])  #y of downright corner of bbox \n",
    "\n",
    "        x_down_left = (groupe.iloc[i, 2])  #x of downleft corner of bbox \n",
    "        y_down_left = (groupe.iloc[i, 5])  #y of downleft corner of bbox \n",
    "\n",
    "\n",
    "\n",
    "        x_indices_mask = np.multiply(flop, x_indices)  #matrix with masks for x indices \n",
    "        y_indices_mask = np.multiply(flop, y_indices)  #matrix with masks for y indices \n",
    "\n",
    "\n",
    "\n",
    "\n",
    "\n",
    "\n",
    "        distance_from_up_left = (x_indices_mask - x_up_left)**2 + (y_indices_mask - y_up_left)**2  #compute the distance\n",
    "        distance_from_up_left = np.multiply(distance_from_up_left,flop) #hadamard product with the masks\n",
    "        distance_from_up_left = np.abs(distance_from_up_left) #absolute values \n",
    "        distance_from_up_left = np.sqrt(distance_from_up_left) #square root\n",
    "\n",
    "        gloc[0] = distance_from_up_left  #fill in the first dim of the big tensor \n",
    "\n",
    "        distance_from_up_right = (x_indices_mask - x_up_right)**2 + (y_indices_mask - y_up_right)**2  #compute the distance\n",
    "        distance_from_up_right = np.multiply(distance_from_up_right,flop) #hadamard product with the masks\n",
    "        distance_from_up_right = np.abs(distance_from_up_right) #absolute values \n",
    "        distance_from_up_right = np.sqrt(distance_from_up_right) #square root\n",
    "\n",
    "        gloc[1] = distance_from_up_right  #fill in the second dim of the big tensor\n",
    "\n",
    "        distance_from_down_right = (x_indices_mask - x_down_right)**2 + (y_indices_mask - y_down_right)**2 #compute the distance\n",
    "        distance_from_down_right = np.multiply(distance_from_down_right,flop) #hadamard product with the masks\n",
    "        distance_from_down_right = np.abs(distance_from_down_right) #absolute values \n",
    "        distance_from_down_right = np.sqrt(distance_from_down_right) #square root\n",
    "\n",
    "        gloc[2] = distance_from_down_right  #fill in the third dim of the big tensor\n",
    "\n",
    "        distance_from_down_left = (x_indices_mask - x_down_left)**2 + (y_indices_mask - y_down_left)**2 #compute the distance\n",
    "        distance_from_down_left = np.multiply(distance_from_down_left,flop) #hadamard product with the masks\n",
    "        distance_from_down_left = np.abs(distance_from_down_left) #absolute values \n",
    "        distance_from_down_left = np.sqrt(distance_from_down_left) #square root\n",
    "\n",
    "        gloc[3] = distance_from_down_left  #fill in the fourth dim of the big tensor\n",
    "\n",
    "\n",
    "    np.save(f'./thousand_distancegeo/{noms}.npy',gloc)\n",
    "\n",
    "\n",
    "\n",
    "    #plotting    \n",
    "    #for w in range(4):\n",
    "\n",
    "    #    plt.imshow(gloc[w])\n",
    "    #    plt.show()"
   ]
  },
  {
   "cell_type": "code",
   "execution_count": 232,
   "metadata": {},
   "outputs": [
    {
     "data": {
      "image/png": "[encoded data removed]",
      "text/plain": [
       "<Figure size 432x288 with 1 Axes>"
      ]
     },
     "metadata": {
      "needs_background": "light"
     },
     "output_type": "display_data"
    }
   ],
   "source": [
    "plt.imshow(gloc[3]())\n",
    "plt.show()"
   ]
  },
  {
   "cell_type": "code",
   "execution_count": 254,
   "metadata": {},
   "outputs": [
    {
     "data": {
      "image/png": "[encoded data removed]",
      "text/plain": [
       "<Figure size 432x288 with 1 Axes>"
      ]
     },
     "metadata": {
      "needs_background": "light"
     },
     "output_type": "display_data"
    }
   ],
   "source": [
    "lol = np.load('gloc.npy')\n",
    "plt.imshow(lol[3])\n",
    "plt.show()"
   ]
  },
  {
   "cell_type": "code",
   "execution_count": null,
   "metadata": {},
   "outputs": [],
   "source": []
  },
  {
   "cell_type": "code",
   "execution_count": 234,
   "metadata": {},
   "outputs": [
    {
     "data": {
      "text/plain": [
       "array([[  0,   0,   0, ...,   0,   0,   0],\n",
       "       [  1,   1,   1, ...,   1,   1,   1],\n",
       "       [  2,   2,   2, ...,   2,   2,   2],\n",
       "       ...,\n",
       "       [717, 717, 717, ..., 717, 717, 717],\n",
       "       [718, 718, 718, ..., 718, 718, 718],\n",
       "       [719, 719, 719, ..., 719, 719, 719]])"
      ]
     },
     "execution_count": 234,
     "metadata": {},
     "output_type": "execute_result"
    }
   ],
   "source": [
    "x_indices"
   ]
  },
  {
   "cell_type": "code",
   "execution_count": null,
   "metadata": {},
   "outputs": [],
   "source": []
  },
  {
   "cell_type": "code",
   "execution_count": 229,
   "metadata": {},
   "outputs": [
    {
     "data": {
      "text/plain": [
       "array([[   0,    1,    2, ..., 1277, 1278, 1279],\n",
       "       [   0,    1,    2, ..., 1277, 1278, 1279],\n",
       "       [   0,    1,    2, ..., 1277, 1278, 1279],\n",
       "       ...,\n",
       "       [   0,    1,    2, ..., 1277, 1278, 1279],\n",
       "       [   0,    1,    2, ..., 1277, 1278, 1279],\n",
       "       [   0,    1,    2, ..., 1277, 1278, 1279]])"
      ]
     },
     "execution_count": 229,
     "metadata": {},
     "output_type": "execute_result"
    }
   ],
   "source": [
    "np.indices((height, width))[1]"
   ]
  },
  {
   "cell_type": "code",
   "execution_count": null,
   "metadata": {},
   "outputs": [],
   "source": []
  }
 ],
 "metadata": {
  "kernelspec": {
   "display_name": "Python 3",
   "language": "python",
   "name": "python3"
  },
  "language_info": {
   "codemirror_mode": {
    "name": "ipython",
    "version": 3
   },
   "file_extension": ".py",
   "mimetype": "text/x-python",
   "name": "python",
   "nbconvert_exporter": "python",
   "pygments_lexer": "ipython3",
   "version": "3.9.1"
  }
 },
 "nbformat": 4,
 "nbformat_minor": 4
}
